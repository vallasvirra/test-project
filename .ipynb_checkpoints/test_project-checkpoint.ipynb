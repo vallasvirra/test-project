{
 "cells": [
  {
   "cell_type": "markdown",
   "metadata": {
    "toc": true
   },
   "source": [
    "<h1>Содержание<span class=\"tocSkip\"></span></h1>\n",
    "<div class=\"toc\"><ul class=\"toc-item\"><li><span><a href=\"#Подготовка-данных\" data-toc-modified-id=\"Подготовка-данных-1\"><span class=\"toc-item-num\">1&nbsp;&nbsp;</span>Подготовка данных</a></span></li><li><span><a href=\"#Исследование-задачи\" data-toc-modified-id=\"Исследование-задачи-2\"><span class=\"toc-item-num\">2&nbsp;&nbsp;</span>Исследование задачи</a></span></li><li><span><a href=\"#Борьба-с-дисбалансом\" data-toc-modified-id=\"Борьба-с-дисбалансом-3\"><span class=\"toc-item-num\">3&nbsp;&nbsp;</span>Борьба с дисбалансом</a></span><ul class=\"toc-item\"><li><span><a href=\"#Upsampling\" data-toc-modified-id=\"Upsampling-3.1\"><span class=\"toc-item-num\">3.1&nbsp;&nbsp;</span>Upsampling</a></span></li><li><span><a href=\"#Балансировка-классов\" data-toc-modified-id=\"Балансировка-классов-3.2\"><span class=\"toc-item-num\">3.2&nbsp;&nbsp;</span>Балансировка классов</a></span></li><li><span><a href=\"#Downsampling\" data-toc-modified-id=\"Downsampling-3.3\"><span class=\"toc-item-num\">3.3&nbsp;&nbsp;</span>Downsampling</a></span></li><li><span><a href=\"#Выбор-лучшей-модели-и-подбор-порога-классификации\" data-toc-modified-id=\"Выбор-лучшей-модели-и-подбор-порога-классификации-3.4\"><span class=\"toc-item-num\">3.4&nbsp;&nbsp;</span>Выбор лучшей модели и подбор порога классификации</a></span></li></ul></li><li><span><a href=\"#Тестирование-модели\" data-toc-modified-id=\"Тестирование-модели-4\"><span class=\"toc-item-num\">4&nbsp;&nbsp;</span>Тестирование модели</a></span></li><li><span><a href=\"#Ключевые-выводы\" data-toc-modified-id=\"Ключевые-выводы-5\"><span class=\"toc-item-num\">5&nbsp;&nbsp;</span>Ключевые выводы</a></span></li><li><span><a href=\"#Чек-лист-готовности-проекта\" data-toc-modified-id=\"Чек-лист-готовности-проекта-6\"><span class=\"toc-item-num\">6&nbsp;&nbsp;</span>Чек-лист готовности проекта</a></span></li></ul></div>"
   ]
  },
  {
   "cell_type": "markdown",
   "metadata": {},
   "source": [
    "# Отток клиентов"
   ]
  },
  {
   "cell_type": "markdown",
   "metadata": {},
   "source": [
    "**Цель проекта:** необходимо построить модель прогнозирования ухода клиентов из банка на основе исторических данных о поведении клиентов и расторжении договоров с банком.\n",
    "\n",
    "Качественной будет считаться модель с метрикой F1 не менее 0.59"
   ]
  },
  {
   "cell_type": "markdown",
   "metadata": {},
   "source": [
    "## Подготовка данных"
   ]
  },
  {
   "cell_type": "code",
   "execution_count": 1,
   "metadata": {},
   "outputs": [],
   "source": [
    "import pandas as pd\n",
    "from sklearn.model_selection import train_test_split\n",
    "from sklearn.tree import DecisionTreeClassifier\n",
    "from sklearn.ensemble import RandomForestClassifier\n",
    "from sklearn.linear_model import LogisticRegression\n",
    "from sklearn.preprocessing import StandardScaler\n",
    "from sklearn.metrics import f1_score\n",
    "from sklearn.metrics import roc_auc_score\n",
    "import numpy as np\n",
    "from sklearn.utils import shuffle\n"
   ]
  },
  {
   "cell_type": "code",
   "execution_count": 2,
   "metadata": {},
   "outputs": [],
   "source": [
    "df = pd.read_csv('./datasets/Churn.csv')"
   ]
  },
  {
   "cell_type": "code",
   "execution_count": 3,
   "metadata": {},
   "outputs": [
    {
     "name": "stdout",
     "output_type": "stream",
     "text": [
      "(10000, 14)\n"
     ]
    },
    {
     "data": {
      "text/html": [
       "<div>\n",
       "<style scoped>\n",
       "    .dataframe tbody tr th:only-of-type {\n",
       "        vertical-align: middle;\n",
       "    }\n",
       "\n",
       "    .dataframe tbody tr th {\n",
       "        vertical-align: top;\n",
       "    }\n",
       "\n",
       "    .dataframe thead th {\n",
       "        text-align: right;\n",
       "    }\n",
       "</style>\n",
       "<table border=\"1\" class=\"dataframe\">\n",
       "  <thead>\n",
       "    <tr style=\"text-align: right;\">\n",
       "      <th></th>\n",
       "      <th>RowNumber</th>\n",
       "      <th>CustomerId</th>\n",
       "      <th>Surname</th>\n",
       "      <th>CreditScore</th>\n",
       "      <th>Geography</th>\n",
       "      <th>Gender</th>\n",
       "      <th>Age</th>\n",
       "      <th>Tenure</th>\n",
       "      <th>Balance</th>\n",
       "      <th>NumOfProducts</th>\n",
       "      <th>HasCrCard</th>\n",
       "      <th>IsActiveMember</th>\n",
       "      <th>EstimatedSalary</th>\n",
       "      <th>Exited</th>\n",
       "    </tr>\n",
       "  </thead>\n",
       "  <tbody>\n",
       "    <tr>\n",
       "      <th>0</th>\n",
       "      <td>1</td>\n",
       "      <td>15634602</td>\n",
       "      <td>Hargrave</td>\n",
       "      <td>619</td>\n",
       "      <td>France</td>\n",
       "      <td>Female</td>\n",
       "      <td>42</td>\n",
       "      <td>2.0</td>\n",
       "      <td>0.00</td>\n",
       "      <td>1</td>\n",
       "      <td>1</td>\n",
       "      <td>1</td>\n",
       "      <td>101348.88</td>\n",
       "      <td>1</td>\n",
       "    </tr>\n",
       "    <tr>\n",
       "      <th>1</th>\n",
       "      <td>2</td>\n",
       "      <td>15647311</td>\n",
       "      <td>Hill</td>\n",
       "      <td>608</td>\n",
       "      <td>Spain</td>\n",
       "      <td>Female</td>\n",
       "      <td>41</td>\n",
       "      <td>1.0</td>\n",
       "      <td>83807.86</td>\n",
       "      <td>1</td>\n",
       "      <td>0</td>\n",
       "      <td>1</td>\n",
       "      <td>112542.58</td>\n",
       "      <td>0</td>\n",
       "    </tr>\n",
       "    <tr>\n",
       "      <th>2</th>\n",
       "      <td>3</td>\n",
       "      <td>15619304</td>\n",
       "      <td>Onio</td>\n",
       "      <td>502</td>\n",
       "      <td>France</td>\n",
       "      <td>Female</td>\n",
       "      <td>42</td>\n",
       "      <td>8.0</td>\n",
       "      <td>159660.80</td>\n",
       "      <td>3</td>\n",
       "      <td>1</td>\n",
       "      <td>0</td>\n",
       "      <td>113931.57</td>\n",
       "      <td>1</td>\n",
       "    </tr>\n",
       "    <tr>\n",
       "      <th>3</th>\n",
       "      <td>4</td>\n",
       "      <td>15701354</td>\n",
       "      <td>Boni</td>\n",
       "      <td>699</td>\n",
       "      <td>France</td>\n",
       "      <td>Female</td>\n",
       "      <td>39</td>\n",
       "      <td>1.0</td>\n",
       "      <td>0.00</td>\n",
       "      <td>2</td>\n",
       "      <td>0</td>\n",
       "      <td>0</td>\n",
       "      <td>93826.63</td>\n",
       "      <td>0</td>\n",
       "    </tr>\n",
       "    <tr>\n",
       "      <th>4</th>\n",
       "      <td>5</td>\n",
       "      <td>15737888</td>\n",
       "      <td>Mitchell</td>\n",
       "      <td>850</td>\n",
       "      <td>Spain</td>\n",
       "      <td>Female</td>\n",
       "      <td>43</td>\n",
       "      <td>2.0</td>\n",
       "      <td>125510.82</td>\n",
       "      <td>1</td>\n",
       "      <td>1</td>\n",
       "      <td>1</td>\n",
       "      <td>79084.10</td>\n",
       "      <td>0</td>\n",
       "    </tr>\n",
       "  </tbody>\n",
       "</table>\n",
       "</div>"
      ],
      "text/plain": [
       "   RowNumber  CustomerId   Surname  CreditScore Geography  Gender  Age  \\\n",
       "0          1    15634602  Hargrave          619    France  Female   42   \n",
       "1          2    15647311      Hill          608     Spain  Female   41   \n",
       "2          3    15619304      Onio          502    France  Female   42   \n",
       "3          4    15701354      Boni          699    France  Female   39   \n",
       "4          5    15737888  Mitchell          850     Spain  Female   43   \n",
       "\n",
       "   Tenure    Balance  NumOfProducts  HasCrCard  IsActiveMember  \\\n",
       "0     2.0       0.00              1          1               1   \n",
       "1     1.0   83807.86              1          0               1   \n",
       "2     8.0  159660.80              3          1               0   \n",
       "3     1.0       0.00              2          0               0   \n",
       "4     2.0  125510.82              1          1               1   \n",
       "\n",
       "   EstimatedSalary  Exited  \n",
       "0        101348.88       1  \n",
       "1        112542.58       0  \n",
       "2        113931.57       1  \n",
       "3         93826.63       0  \n",
       "4         79084.10       0  "
      ]
     },
     "metadata": {},
     "output_type": "display_data"
    }
   ],
   "source": [
    "print(df.shape)\n",
    "display(df.head())"
   ]
  },
  {
   "cell_type": "code",
   "execution_count": 4,
   "metadata": {},
   "outputs": [
    {
     "name": "stdout",
     "output_type": "stream",
     "text": [
      "<class 'pandas.core.frame.DataFrame'>\n",
      "RangeIndex: 10000 entries, 0 to 9999\n",
      "Data columns (total 14 columns):\n",
      " #   Column           Non-Null Count  Dtype  \n",
      "---  ------           --------------  -----  \n",
      " 0   RowNumber        10000 non-null  int64  \n",
      " 1   CustomerId       10000 non-null  int64  \n",
      " 2   Surname          10000 non-null  object \n",
      " 3   CreditScore      10000 non-null  int64  \n",
      " 4   Geography        10000 non-null  object \n",
      " 5   Gender           10000 non-null  object \n",
      " 6   Age              10000 non-null  int64  \n",
      " 7   Tenure           9091 non-null   float64\n",
      " 8   Balance          10000 non-null  float64\n",
      " 9   NumOfProducts    10000 non-null  int64  \n",
      " 10  HasCrCard        10000 non-null  int64  \n",
      " 11  IsActiveMember   10000 non-null  int64  \n",
      " 12  EstimatedSalary  10000 non-null  float64\n",
      " 13  Exited           10000 non-null  int64  \n",
      "dtypes: float64(3), int64(8), object(3)\n",
      "memory usage: 1.1+ MB\n"
     ]
    }
   ],
   "source": [
    "df.info()"
   ]
  },
  {
   "cell_type": "code",
   "execution_count": 5,
   "metadata": {},
   "outputs": [
    {
     "data": {
      "text/plain": [
       "2037"
      ]
     },
     "execution_count": 5,
     "metadata": {},
     "output_type": "execute_result"
    }
   ],
   "source": [
    "df['Exited'].sum()"
   ]
  },
  {
   "cell_type": "code",
   "execution_count": 6,
   "metadata": {},
   "outputs": [
    {
     "data": {
      "text/plain": [
       "183"
      ]
     },
     "execution_count": 6,
     "metadata": {},
     "output_type": "execute_result"
    }
   ],
   "source": [
    "df[df['Tenure'].isna()]['Exited'].sum()"
   ]
  },
  {
   "cell_type": "code",
   "execution_count": 7,
   "metadata": {},
   "outputs": [],
   "source": [
    "# удаляем строки, где нет данных по кол-ву лет, которые человек является клиентом\n",
    "\n",
    "df = df.dropna(subset=['Tenure'])"
   ]
  },
  {
   "cell_type": "code",
   "execution_count": 8,
   "metadata": {},
   "outputs": [
    {
     "data": {
      "text/plain": [
       "0"
      ]
     },
     "execution_count": 8,
     "metadata": {},
     "output_type": "execute_result"
    }
   ],
   "source": [
    "df['CustomerId'].duplicated().sum()"
   ]
  },
  {
   "cell_type": "code",
   "execution_count": 9,
   "metadata": {},
   "outputs": [],
   "source": [
    "# удаляем лишние столбцы\n",
    "\n",
    "df = df.drop(['RowNumber','CustomerId','Surname'], axis=1)"
   ]
  },
  {
   "cell_type": "markdown",
   "metadata": {},
   "source": [
    "**Комментарий:** удаляем данные столбцы, так как они содержат учетные данные и не влияют на признак-результат"
   ]
  },
  {
   "cell_type": "code",
   "execution_count": 10,
   "metadata": {},
   "outputs": [
    {
     "data": {
      "text/html": [
       "<div>\n",
       "<style scoped>\n",
       "    .dataframe tbody tr th:only-of-type {\n",
       "        vertical-align: middle;\n",
       "    }\n",
       "\n",
       "    .dataframe tbody tr th {\n",
       "        vertical-align: top;\n",
       "    }\n",
       "\n",
       "    .dataframe thead th {\n",
       "        text-align: right;\n",
       "    }\n",
       "</style>\n",
       "<table border=\"1\" class=\"dataframe\">\n",
       "  <thead>\n",
       "    <tr style=\"text-align: right;\">\n",
       "      <th></th>\n",
       "      <th>CreditScore</th>\n",
       "      <th>Geography</th>\n",
       "      <th>Gender</th>\n",
       "      <th>Age</th>\n",
       "      <th>Tenure</th>\n",
       "      <th>Balance</th>\n",
       "      <th>NumOfProducts</th>\n",
       "      <th>HasCrCard</th>\n",
       "      <th>IsActiveMember</th>\n",
       "      <th>EstimatedSalary</th>\n",
       "      <th>Exited</th>\n",
       "    </tr>\n",
       "  </thead>\n",
       "  <tbody>\n",
       "    <tr>\n",
       "      <th>0</th>\n",
       "      <td>619</td>\n",
       "      <td>France</td>\n",
       "      <td>Female</td>\n",
       "      <td>42</td>\n",
       "      <td>2.0</td>\n",
       "      <td>0.00</td>\n",
       "      <td>1</td>\n",
       "      <td>1</td>\n",
       "      <td>1</td>\n",
       "      <td>101348.88</td>\n",
       "      <td>1</td>\n",
       "    </tr>\n",
       "    <tr>\n",
       "      <th>1</th>\n",
       "      <td>608</td>\n",
       "      <td>Spain</td>\n",
       "      <td>Female</td>\n",
       "      <td>41</td>\n",
       "      <td>1.0</td>\n",
       "      <td>83807.86</td>\n",
       "      <td>1</td>\n",
       "      <td>0</td>\n",
       "      <td>1</td>\n",
       "      <td>112542.58</td>\n",
       "      <td>0</td>\n",
       "    </tr>\n",
       "    <tr>\n",
       "      <th>2</th>\n",
       "      <td>502</td>\n",
       "      <td>France</td>\n",
       "      <td>Female</td>\n",
       "      <td>42</td>\n",
       "      <td>8.0</td>\n",
       "      <td>159660.80</td>\n",
       "      <td>3</td>\n",
       "      <td>1</td>\n",
       "      <td>0</td>\n",
       "      <td>113931.57</td>\n",
       "      <td>1</td>\n",
       "    </tr>\n",
       "    <tr>\n",
       "      <th>3</th>\n",
       "      <td>699</td>\n",
       "      <td>France</td>\n",
       "      <td>Female</td>\n",
       "      <td>39</td>\n",
       "      <td>1.0</td>\n",
       "      <td>0.00</td>\n",
       "      <td>2</td>\n",
       "      <td>0</td>\n",
       "      <td>0</td>\n",
       "      <td>93826.63</td>\n",
       "      <td>0</td>\n",
       "    </tr>\n",
       "    <tr>\n",
       "      <th>4</th>\n",
       "      <td>850</td>\n",
       "      <td>Spain</td>\n",
       "      <td>Female</td>\n",
       "      <td>43</td>\n",
       "      <td>2.0</td>\n",
       "      <td>125510.82</td>\n",
       "      <td>1</td>\n",
       "      <td>1</td>\n",
       "      <td>1</td>\n",
       "      <td>79084.10</td>\n",
       "      <td>0</td>\n",
       "    </tr>\n",
       "  </tbody>\n",
       "</table>\n",
       "</div>"
      ],
      "text/plain": [
       "   CreditScore Geography  Gender  Age  Tenure    Balance  NumOfProducts  \\\n",
       "0          619    France  Female   42     2.0       0.00              1   \n",
       "1          608     Spain  Female   41     1.0   83807.86              1   \n",
       "2          502    France  Female   42     8.0  159660.80              3   \n",
       "3          699    France  Female   39     1.0       0.00              2   \n",
       "4          850     Spain  Female   43     2.0  125510.82              1   \n",
       "\n",
       "   HasCrCard  IsActiveMember  EstimatedSalary  Exited  \n",
       "0          1               1        101348.88       1  \n",
       "1          0               1        112542.58       0  \n",
       "2          1               0        113931.57       1  \n",
       "3          0               0         93826.63       0  \n",
       "4          1               1         79084.10       0  "
      ]
     },
     "execution_count": 10,
     "metadata": {},
     "output_type": "execute_result"
    }
   ],
   "source": [
    "df.head()"
   ]
  },
  {
   "cell_type": "code",
   "execution_count": 11,
   "metadata": {},
   "outputs": [
    {
     "data": {
      "text/html": [
       "<div>\n",
       "<style scoped>\n",
       "    .dataframe tbody tr th:only-of-type {\n",
       "        vertical-align: middle;\n",
       "    }\n",
       "\n",
       "    .dataframe tbody tr th {\n",
       "        vertical-align: top;\n",
       "    }\n",
       "\n",
       "    .dataframe thead th {\n",
       "        text-align: right;\n",
       "    }\n",
       "</style>\n",
       "<table border=\"1\" class=\"dataframe\">\n",
       "  <thead>\n",
       "    <tr style=\"text-align: right;\">\n",
       "      <th></th>\n",
       "      <th>CreditScore</th>\n",
       "      <th>Age</th>\n",
       "      <th>Tenure</th>\n",
       "      <th>Balance</th>\n",
       "      <th>NumOfProducts</th>\n",
       "      <th>HasCrCard</th>\n",
       "      <th>IsActiveMember</th>\n",
       "      <th>EstimatedSalary</th>\n",
       "      <th>Exited</th>\n",
       "    </tr>\n",
       "  </thead>\n",
       "  <tbody>\n",
       "    <tr>\n",
       "      <th>CreditScore</th>\n",
       "      <td>1.000000</td>\n",
       "      <td>-0.004504</td>\n",
       "      <td>-0.000062</td>\n",
       "      <td>0.002804</td>\n",
       "      <td>0.011090</td>\n",
       "      <td>-0.003937</td>\n",
       "      <td>0.030947</td>\n",
       "      <td>0.005182</td>\n",
       "      <td>-0.023950</td>\n",
       "    </tr>\n",
       "    <tr>\n",
       "      <th>Age</th>\n",
       "      <td>-0.004504</td>\n",
       "      <td>1.000000</td>\n",
       "      <td>-0.013134</td>\n",
       "      <td>0.031481</td>\n",
       "      <td>-0.031877</td>\n",
       "      <td>-0.014129</td>\n",
       "      <td>0.082269</td>\n",
       "      <td>-0.007037</td>\n",
       "      <td>0.283017</td>\n",
       "    </tr>\n",
       "    <tr>\n",
       "      <th>Tenure</th>\n",
       "      <td>-0.000062</td>\n",
       "      <td>-0.013134</td>\n",
       "      <td>1.000000</td>\n",
       "      <td>-0.007911</td>\n",
       "      <td>0.011979</td>\n",
       "      <td>0.027232</td>\n",
       "      <td>-0.032178</td>\n",
       "      <td>0.010520</td>\n",
       "      <td>-0.016761</td>\n",
       "    </tr>\n",
       "    <tr>\n",
       "      <th>Balance</th>\n",
       "      <td>0.002804</td>\n",
       "      <td>0.031481</td>\n",
       "      <td>-0.007911</td>\n",
       "      <td>1.000000</td>\n",
       "      <td>-0.301858</td>\n",
       "      <td>-0.019055</td>\n",
       "      <td>-0.003285</td>\n",
       "      <td>0.014351</td>\n",
       "      <td>0.117218</td>\n",
       "    </tr>\n",
       "    <tr>\n",
       "      <th>NumOfProducts</th>\n",
       "      <td>0.011090</td>\n",
       "      <td>-0.031877</td>\n",
       "      <td>0.011979</td>\n",
       "      <td>-0.301858</td>\n",
       "      <td>1.000000</td>\n",
       "      <td>0.005805</td>\n",
       "      <td>0.009084</td>\n",
       "      <td>0.013990</td>\n",
       "      <td>-0.050271</td>\n",
       "    </tr>\n",
       "    <tr>\n",
       "      <th>HasCrCard</th>\n",
       "      <td>-0.003937</td>\n",
       "      <td>-0.014129</td>\n",
       "      <td>0.027232</td>\n",
       "      <td>-0.019055</td>\n",
       "      <td>0.005805</td>\n",
       "      <td>1.000000</td>\n",
       "      <td>-0.008810</td>\n",
       "      <td>-0.006136</td>\n",
       "      <td>-0.005411</td>\n",
       "    </tr>\n",
       "    <tr>\n",
       "      <th>IsActiveMember</th>\n",
       "      <td>0.030947</td>\n",
       "      <td>0.082269</td>\n",
       "      <td>-0.032178</td>\n",
       "      <td>-0.003285</td>\n",
       "      <td>0.009084</td>\n",
       "      <td>-0.008810</td>\n",
       "      <td>1.000000</td>\n",
       "      <td>-0.020049</td>\n",
       "      <td>-0.155062</td>\n",
       "    </tr>\n",
       "    <tr>\n",
       "      <th>EstimatedSalary</th>\n",
       "      <td>0.005182</td>\n",
       "      <td>-0.007037</td>\n",
       "      <td>0.010520</td>\n",
       "      <td>0.014351</td>\n",
       "      <td>0.013990</td>\n",
       "      <td>-0.006136</td>\n",
       "      <td>-0.020049</td>\n",
       "      <td>1.000000</td>\n",
       "      <td>0.016029</td>\n",
       "    </tr>\n",
       "    <tr>\n",
       "      <th>Exited</th>\n",
       "      <td>-0.023950</td>\n",
       "      <td>0.283017</td>\n",
       "      <td>-0.016761</td>\n",
       "      <td>0.117218</td>\n",
       "      <td>-0.050271</td>\n",
       "      <td>-0.005411</td>\n",
       "      <td>-0.155062</td>\n",
       "      <td>0.016029</td>\n",
       "      <td>1.000000</td>\n",
       "    </tr>\n",
       "  </tbody>\n",
       "</table>\n",
       "</div>"
      ],
      "text/plain": [
       "                 CreditScore       Age    Tenure   Balance  NumOfProducts  \\\n",
       "CreditScore         1.000000 -0.004504 -0.000062  0.002804       0.011090   \n",
       "Age                -0.004504  1.000000 -0.013134  0.031481      -0.031877   \n",
       "Tenure             -0.000062 -0.013134  1.000000 -0.007911       0.011979   \n",
       "Balance             0.002804  0.031481 -0.007911  1.000000      -0.301858   \n",
       "NumOfProducts       0.011090 -0.031877  0.011979 -0.301858       1.000000   \n",
       "HasCrCard          -0.003937 -0.014129  0.027232 -0.019055       0.005805   \n",
       "IsActiveMember      0.030947  0.082269 -0.032178 -0.003285       0.009084   \n",
       "EstimatedSalary     0.005182 -0.007037  0.010520  0.014351       0.013990   \n",
       "Exited             -0.023950  0.283017 -0.016761  0.117218      -0.050271   \n",
       "\n",
       "                 HasCrCard  IsActiveMember  EstimatedSalary    Exited  \n",
       "CreditScore      -0.003937        0.030947         0.005182 -0.023950  \n",
       "Age              -0.014129        0.082269        -0.007037  0.283017  \n",
       "Tenure            0.027232       -0.032178         0.010520 -0.016761  \n",
       "Balance          -0.019055       -0.003285         0.014351  0.117218  \n",
       "NumOfProducts     0.005805        0.009084         0.013990 -0.050271  \n",
       "HasCrCard         1.000000       -0.008810        -0.006136 -0.005411  \n",
       "IsActiveMember   -0.008810        1.000000        -0.020049 -0.155062  \n",
       "EstimatedSalary  -0.006136       -0.020049         1.000000  0.016029  \n",
       "Exited           -0.005411       -0.155062         0.016029  1.000000  "
      ]
     },
     "execution_count": 11,
     "metadata": {},
     "output_type": "execute_result"
    }
   ],
   "source": [
    "# проверяем признаки на парную корреляцию\n",
    "\n",
    "df.corr()"
   ]
  },
  {
   "cell_type": "code",
   "execution_count": 12,
   "metadata": {},
   "outputs": [
    {
     "data": {
      "text/html": [
       "<div>\n",
       "<style scoped>\n",
       "    .dataframe tbody tr th:only-of-type {\n",
       "        vertical-align: middle;\n",
       "    }\n",
       "\n",
       "    .dataframe tbody tr th {\n",
       "        vertical-align: top;\n",
       "    }\n",
       "\n",
       "    .dataframe thead th {\n",
       "        text-align: right;\n",
       "    }\n",
       "</style>\n",
       "<table border=\"1\" class=\"dataframe\">\n",
       "  <thead>\n",
       "    <tr style=\"text-align: right;\">\n",
       "      <th></th>\n",
       "      <th>Exited</th>\n",
       "    </tr>\n",
       "    <tr>\n",
       "      <th>Exited</th>\n",
       "      <th></th>\n",
       "    </tr>\n",
       "  </thead>\n",
       "  <tbody>\n",
       "    <tr>\n",
       "      <th>0</th>\n",
       "      <td>7237</td>\n",
       "    </tr>\n",
       "    <tr>\n",
       "      <th>1</th>\n",
       "      <td>1854</td>\n",
       "    </tr>\n",
       "  </tbody>\n",
       "</table>\n",
       "</div>"
      ],
      "text/plain": [
       "        Exited\n",
       "Exited        \n",
       "0         7237\n",
       "1         1854"
      ]
     },
     "execution_count": 12,
     "metadata": {},
     "output_type": "execute_result"
    }
   ],
   "source": [
    "# Оцениваем сбалансированность выборки\n",
    "\n",
    "df.groupby('Exited').agg({'Exited':'count'})"
   ]
  },
  {
   "cell_type": "markdown",
   "metadata": {},
   "source": [
    "**Комментарий:** Выборка несбалансирована. Количество отрицательных объектов превышает количество положительных примерно в 4 раза"
   ]
  },
  {
   "cell_type": "code",
   "execution_count": 13,
   "metadata": {},
   "outputs": [
    {
     "name": "stdout",
     "output_type": "stream",
     "text": [
      "4\n"
     ]
    }
   ],
   "source": [
    "# коэффициент для апскейлинга\n",
    "\n",
    "upsample_ratio = round((df['Exited'].count() - df['Exited'].sum()) / df['Exited'].sum())\n",
    "print(upsample_ratio)"
   ]
  },
  {
   "cell_type": "code",
   "execution_count": 14,
   "metadata": {},
   "outputs": [],
   "source": [
    "# Преобразовываем категориальные признаки в численные\n",
    "\n",
    "# df_ohe = pd.get_dummies(df, drop_first=True)\n",
    "# df_ohe.head()"
   ]
  },
  {
   "cell_type": "code",
   "execution_count": 15,
   "metadata": {},
   "outputs": [
    {
     "name": "stdout",
     "output_type": "stream",
     "text": [
      "(5454, 10)\n",
      "(5454,)\n",
      "\n",
      "(1818, 10)\n",
      "(1818,)\n",
      "\n",
      "(1819, 10)\n",
      "(1819,)\n",
      "\n"
     ]
    }
   ],
   "source": [
    "# Разбиваем выборку на обучающую, валидационную и тестовую\n",
    "\n",
    "target = df['Exited']\n",
    "features = df.drop('Exited', axis=1)\n",
    "\n",
    "features_core, features_test, target_core, target_test = train_test_split(\n",
    "    features, target, test_size=0.2, random_state=12345)\n",
    "\n",
    "features_train, features_valid, target_train, target_valid = train_test_split(\n",
    "    features_core, target_core, test_size=0.25, random_state=12345)\n",
    "\n",
    "print(features_train.shape)\n",
    "print(target_train.shape)\n",
    "print()\n",
    "print(features_valid.shape)\n",
    "print(target_valid.shape)\n",
    "print()\n",
    "print(features_test.shape)\n",
    "print(target_test.shape)\n",
    "print()"
   ]
  },
  {
   "cell_type": "code",
   "execution_count": 16,
   "metadata": {},
   "outputs": [
    {
     "name": "stdout",
     "output_type": "stream",
     "text": [
      "0.20517051705170516\n",
      "0.20132013201320131\n",
      "0.2028587135788895\n"
     ]
    }
   ],
   "source": [
    "print(target_train.sum() / len(target_train))\n",
    "print(target_valid.sum() / len(target_valid))\n",
    "print(target_test.sum() / len(target_test))"
   ]
  },
  {
   "cell_type": "code",
   "execution_count": 17,
   "metadata": {},
   "outputs": [
    {
     "data": {
      "text/html": [
       "<div>\n",
       "<style scoped>\n",
       "    .dataframe tbody tr th:only-of-type {\n",
       "        vertical-align: middle;\n",
       "    }\n",
       "\n",
       "    .dataframe tbody tr th {\n",
       "        vertical-align: top;\n",
       "    }\n",
       "\n",
       "    .dataframe thead th {\n",
       "        text-align: right;\n",
       "    }\n",
       "</style>\n",
       "<table border=\"1\" class=\"dataframe\">\n",
       "  <thead>\n",
       "    <tr style=\"text-align: right;\">\n",
       "      <th></th>\n",
       "      <th>CreditScore</th>\n",
       "      <th>Age</th>\n",
       "      <th>Tenure</th>\n",
       "      <th>Balance</th>\n",
       "      <th>NumOfProducts</th>\n",
       "      <th>HasCrCard</th>\n",
       "      <th>IsActiveMember</th>\n",
       "      <th>EstimatedSalary</th>\n",
       "      <th>Geography_Germany</th>\n",
       "      <th>Geography_Spain</th>\n",
       "      <th>Gender_Male</th>\n",
       "    </tr>\n",
       "  </thead>\n",
       "  <tbody>\n",
       "    <tr>\n",
       "      <th>3706</th>\n",
       "      <td>629</td>\n",
       "      <td>44</td>\n",
       "      <td>6.0</td>\n",
       "      <td>125512.98</td>\n",
       "      <td>2</td>\n",
       "      <td>0</td>\n",
       "      <td>0</td>\n",
       "      <td>79082.76</td>\n",
       "      <td>0</td>\n",
       "      <td>1</td>\n",
       "      <td>0</td>\n",
       "    </tr>\n",
       "  </tbody>\n",
       "</table>\n",
       "</div>"
      ],
      "text/plain": [
       "      CreditScore  Age  Tenure    Balance  NumOfProducts  HasCrCard  \\\n",
       "3706          629   44     6.0  125512.98              2          0   \n",
       "\n",
       "      IsActiveMember  EstimatedSalary  Geography_Germany  Geography_Spain  \\\n",
       "3706               0         79082.76                  0                1   \n",
       "\n",
       "      Gender_Male  \n",
       "3706            0  "
      ]
     },
     "metadata": {},
     "output_type": "display_data"
    },
    {
     "data": {
      "text/html": [
       "<div>\n",
       "<style scoped>\n",
       "    .dataframe tbody tr th:only-of-type {\n",
       "        vertical-align: middle;\n",
       "    }\n",
       "\n",
       "    .dataframe tbody tr th {\n",
       "        vertical-align: top;\n",
       "    }\n",
       "\n",
       "    .dataframe thead th {\n",
       "        text-align: right;\n",
       "    }\n",
       "</style>\n",
       "<table border=\"1\" class=\"dataframe\">\n",
       "  <thead>\n",
       "    <tr style=\"text-align: right;\">\n",
       "      <th></th>\n",
       "      <th>CreditScore</th>\n",
       "      <th>Age</th>\n",
       "      <th>Tenure</th>\n",
       "      <th>Balance</th>\n",
       "      <th>NumOfProducts</th>\n",
       "      <th>HasCrCard</th>\n",
       "      <th>IsActiveMember</th>\n",
       "      <th>EstimatedSalary</th>\n",
       "      <th>Geography_Germany</th>\n",
       "      <th>Geography_Spain</th>\n",
       "      <th>Gender_Male</th>\n",
       "    </tr>\n",
       "  </thead>\n",
       "  <tbody>\n",
       "    <tr>\n",
       "      <th>4799</th>\n",
       "      <td>551</td>\n",
       "      <td>52</td>\n",
       "      <td>1.0</td>\n",
       "      <td>0.0</td>\n",
       "      <td>1</td>\n",
       "      <td>0</td>\n",
       "      <td>0</td>\n",
       "      <td>63584.55</td>\n",
       "      <td>0</td>\n",
       "      <td>0</td>\n",
       "      <td>1</td>\n",
       "    </tr>\n",
       "  </tbody>\n",
       "</table>\n",
       "</div>"
      ],
      "text/plain": [
       "      CreditScore  Age  Tenure  Balance  NumOfProducts  HasCrCard  \\\n",
       "4799          551   52     1.0      0.0              1          0   \n",
       "\n",
       "      IsActiveMember  EstimatedSalary  Geography_Germany  Geography_Spain  \\\n",
       "4799               0         63584.55                  0                0   \n",
       "\n",
       "      Gender_Male  \n",
       "4799            1  "
      ]
     },
     "metadata": {},
     "output_type": "display_data"
    },
    {
     "data": {
      "text/html": [
       "<div>\n",
       "<style scoped>\n",
       "    .dataframe tbody tr th:only-of-type {\n",
       "        vertical-align: middle;\n",
       "    }\n",
       "\n",
       "    .dataframe tbody tr th {\n",
       "        vertical-align: top;\n",
       "    }\n",
       "\n",
       "    .dataframe thead th {\n",
       "        text-align: right;\n",
       "    }\n",
       "</style>\n",
       "<table border=\"1\" class=\"dataframe\">\n",
       "  <thead>\n",
       "    <tr style=\"text-align: right;\">\n",
       "      <th></th>\n",
       "      <th>CreditScore</th>\n",
       "      <th>Age</th>\n",
       "      <th>Tenure</th>\n",
       "      <th>Balance</th>\n",
       "      <th>NumOfProducts</th>\n",
       "      <th>HasCrCard</th>\n",
       "      <th>IsActiveMember</th>\n",
       "      <th>EstimatedSalary</th>\n",
       "      <th>Geography_Germany</th>\n",
       "      <th>Geography_Spain</th>\n",
       "      <th>Gender_Male</th>\n",
       "    </tr>\n",
       "  </thead>\n",
       "  <tbody>\n",
       "    <tr>\n",
       "      <th>862</th>\n",
       "      <td>725</td>\n",
       "      <td>41</td>\n",
       "      <td>7.0</td>\n",
       "      <td>113980.21</td>\n",
       "      <td>1</td>\n",
       "      <td>1</td>\n",
       "      <td>1</td>\n",
       "      <td>116704.25</td>\n",
       "      <td>0</td>\n",
       "      <td>0</td>\n",
       "      <td>1</td>\n",
       "    </tr>\n",
       "  </tbody>\n",
       "</table>\n",
       "</div>"
      ],
      "text/plain": [
       "     CreditScore  Age  Tenure    Balance  NumOfProducts  HasCrCard  \\\n",
       "862          725   41     7.0  113980.21              1          1   \n",
       "\n",
       "     IsActiveMember  EstimatedSalary  Geography_Germany  Geography_Spain  \\\n",
       "862               1        116704.25                  0                0   \n",
       "\n",
       "     Gender_Male  \n",
       "862            1  "
      ]
     },
     "metadata": {},
     "output_type": "display_data"
    }
   ],
   "source": [
    "# Преобразовываем категориальные признаки в численные\n",
    "\n",
    "features_train = pd.get_dummies(features_train, drop_first=True)\n",
    "display(features_train.head(1))\n",
    "\n",
    "features_valid = pd.get_dummies(features_valid, drop_first=True)\n",
    "display(features_valid.head(1))\n",
    "\n",
    "features_test = pd.get_dummies(features_test, drop_first=True)\n",
    "display(features_test.head(1))"
   ]
  },
  {
   "cell_type": "code",
   "execution_count": 18,
   "metadata": {},
   "outputs": [
    {
     "data": {
      "text/html": [
       "<div>\n",
       "<style scoped>\n",
       "    .dataframe tbody tr th:only-of-type {\n",
       "        vertical-align: middle;\n",
       "    }\n",
       "\n",
       "    .dataframe tbody tr th {\n",
       "        vertical-align: top;\n",
       "    }\n",
       "\n",
       "    .dataframe thead th {\n",
       "        text-align: right;\n",
       "    }\n",
       "</style>\n",
       "<table border=\"1\" class=\"dataframe\">\n",
       "  <thead>\n",
       "    <tr style=\"text-align: right;\">\n",
       "      <th></th>\n",
       "      <th>Geography</th>\n",
       "      <th>Gender</th>\n",
       "    </tr>\n",
       "  </thead>\n",
       "  <tbody>\n",
       "    <tr>\n",
       "      <th>3706</th>\n",
       "      <td>Spain</td>\n",
       "      <td>Female</td>\n",
       "    </tr>\n",
       "    <tr>\n",
       "      <th>4799</th>\n",
       "      <td>France</td>\n",
       "      <td>Male</td>\n",
       "    </tr>\n",
       "    <tr>\n",
       "      <th>862</th>\n",
       "      <td>France</td>\n",
       "      <td>Male</td>\n",
       "    </tr>\n",
       "  </tbody>\n",
       "</table>\n",
       "</div>"
      ],
      "text/plain": [
       "     Geography  Gender\n",
       "3706     Spain  Female\n",
       "4799    France    Male\n",
       "862     France    Male"
      ]
     },
     "metadata": {},
     "output_type": "display_data"
    }
   ],
   "source": [
    "display(df.loc[[3706,4799,862], ['Geography','Gender']])"
   ]
  },
  {
   "cell_type": "code",
   "execution_count": 19,
   "metadata": {},
   "outputs": [
    {
     "data": {
      "text/html": [
       "<div>\n",
       "<style scoped>\n",
       "    .dataframe tbody tr th:only-of-type {\n",
       "        vertical-align: middle;\n",
       "    }\n",
       "\n",
       "    .dataframe tbody tr th {\n",
       "        vertical-align: top;\n",
       "    }\n",
       "\n",
       "    .dataframe thead th {\n",
       "        text-align: right;\n",
       "    }\n",
       "</style>\n",
       "<table border=\"1\" class=\"dataframe\">\n",
       "  <thead>\n",
       "    <tr style=\"text-align: right;\">\n",
       "      <th></th>\n",
       "      <th>CreditScore</th>\n",
       "      <th>Age</th>\n",
       "      <th>Tenure</th>\n",
       "      <th>Balance</th>\n",
       "      <th>NumOfProducts</th>\n",
       "      <th>HasCrCard</th>\n",
       "      <th>IsActiveMember</th>\n",
       "      <th>EstimatedSalary</th>\n",
       "      <th>Geography_Germany</th>\n",
       "      <th>Geography_Spain</th>\n",
       "      <th>Gender_Male</th>\n",
       "    </tr>\n",
       "  </thead>\n",
       "  <tbody>\n",
       "    <tr>\n",
       "      <th>3706</th>\n",
       "      <td>-0.203819</td>\n",
       "      <td>0.471273</td>\n",
       "      <td>0.352316</td>\n",
       "      <td>0.786022</td>\n",
       "      <td>0.782369</td>\n",
       "      <td>0</td>\n",
       "      <td>0</td>\n",
       "      <td>-0.357205</td>\n",
       "      <td>0</td>\n",
       "      <td>1</td>\n",
       "      <td>0</td>\n",
       "    </tr>\n",
       "    <tr>\n",
       "      <th>6805</th>\n",
       "      <td>-0.357513</td>\n",
       "      <td>-0.384930</td>\n",
       "      <td>-1.373506</td>\n",
       "      <td>-1.230577</td>\n",
       "      <td>0.782369</td>\n",
       "      <td>1</td>\n",
       "      <td>1</td>\n",
       "      <td>-1.671048</td>\n",
       "      <td>0</td>\n",
       "      <td>0</td>\n",
       "      <td>0</td>\n",
       "    </tr>\n",
       "    <tr>\n",
       "      <th>4449</th>\n",
       "      <td>0.175290</td>\n",
       "      <td>-0.289797</td>\n",
       "      <td>-0.683177</td>\n",
       "      <td>-1.230577</td>\n",
       "      <td>0.782369</td>\n",
       "      <td>1</td>\n",
       "      <td>0</td>\n",
       "      <td>-1.119181</td>\n",
       "      <td>0</td>\n",
       "      <td>0</td>\n",
       "      <td>1</td>\n",
       "    </tr>\n",
       "    <tr>\n",
       "      <th>598</th>\n",
       "      <td>0.349476</td>\n",
       "      <td>1.708010</td>\n",
       "      <td>0.007151</td>\n",
       "      <td>1.379462</td>\n",
       "      <td>-0.914942</td>\n",
       "      <td>0</td>\n",
       "      <td>0</td>\n",
       "      <td>-1.569064</td>\n",
       "      <td>1</td>\n",
       "      <td>0</td>\n",
       "      <td>0</td>\n",
       "    </tr>\n",
       "    <tr>\n",
       "      <th>1845</th>\n",
       "      <td>0.902771</td>\n",
       "      <td>-0.289797</td>\n",
       "      <td>1.387809</td>\n",
       "      <td>-1.230577</td>\n",
       "      <td>-0.914942</td>\n",
       "      <td>0</td>\n",
       "      <td>1</td>\n",
       "      <td>1.543790</td>\n",
       "      <td>0</td>\n",
       "      <td>0</td>\n",
       "      <td>1</td>\n",
       "    </tr>\n",
       "  </tbody>\n",
       "</table>\n",
       "</div>"
      ],
      "text/plain": [
       "      CreditScore       Age    Tenure   Balance  NumOfProducts  HasCrCard  \\\n",
       "3706    -0.203819  0.471273  0.352316  0.786022       0.782369          0   \n",
       "6805    -0.357513 -0.384930 -1.373506 -1.230577       0.782369          1   \n",
       "4449     0.175290 -0.289797 -0.683177 -1.230577       0.782369          1   \n",
       "598      0.349476  1.708010  0.007151  1.379462      -0.914942          0   \n",
       "1845     0.902771 -0.289797  1.387809 -1.230577      -0.914942          0   \n",
       "\n",
       "      IsActiveMember  EstimatedSalary  Geography_Germany  Geography_Spain  \\\n",
       "3706               0        -0.357205                  0                1   \n",
       "6805               1        -1.671048                  0                0   \n",
       "4449               0        -1.119181                  0                0   \n",
       "598                0        -1.569064                  1                0   \n",
       "1845               1         1.543790                  0                0   \n",
       "\n",
       "      Gender_Male  \n",
       "3706            0  \n",
       "6805            0  \n",
       "4449            1  \n",
       "598             0  \n",
       "1845            1  "
      ]
     },
     "execution_count": 19,
     "metadata": {},
     "output_type": "execute_result"
    }
   ],
   "source": [
    "# Стандартизируем численные признаки\n",
    "\n",
    "numeric = ['CreditScore','Age','Tenure','Balance','NumOfProducts','EstimatedSalary']\n",
    "\n",
    "scaler = StandardScaler()\n",
    "scaler.fit(features_train[numeric])\n",
    "features_train[numeric] = scaler.transform(features_train[numeric])\n",
    "features_valid[numeric] = scaler.transform(features_valid[numeric])\n",
    "features_test[numeric] = scaler.transform(features_test[numeric])\n",
    "\n",
    "features_train.head()"
   ]
  },
  {
   "cell_type": "markdown",
   "metadata": {},
   "source": [
    "**Комментарий:**\n",
    "- было удалено 909 объектов, по которым отсутствовал признак кол-ва лет, которые человек является клиентом банка. С учетом того, что данное кол-во (909 объектов) относительно мало (~10% от выборки), данное действие видится допустимым\n",
    "- были удалены столбцы RowNumber, CustomerId и Surname, так как они содержат учетные данные клиента и не влияют на признак-результат\n",
    "- дисбаланс классов составляет 1 к 4 (положительные vs отрицательные), что потребудет его корректировки\n",
    "- в выборке обработаны категориальные признаки и стандартизированны численные признаки"
   ]
  },
  {
   "cell_type": "markdown",
   "metadata": {},
   "source": [
    "## Исследование задачи"
   ]
  },
  {
   "cell_type": "code",
   "execution_count": 20,
   "metadata": {},
   "outputs": [
    {
     "name": "stdout",
     "output_type": "stream",
     "text": [
      "f1_score константной модели: 0.3351648351648352\n"
     ]
    }
   ],
   "source": [
    "# Константная модель\n",
    "\n",
    "predicted_valid = pd.Series(1, index=target_valid.index)\n",
    "result = f1_score(target_valid, predicted_valid)\n",
    "print(\"f1_score константной модели:\", result)"
   ]
  },
  {
   "cell_type": "code",
   "execution_count": 21,
   "metadata": {},
   "outputs": [],
   "source": [
    "basic_f1 = []\n",
    "basic_auc = []"
   ]
  },
  {
   "cell_type": "code",
   "execution_count": 22,
   "metadata": {},
   "outputs": [
    {
     "name": "stdout",
     "output_type": "stream",
     "text": [
      "f1_score лучшей модели: 0.557427258805513\n",
      "Глубина лучшей модели: 9\n",
      "AUC ROC лучшей модели: 0.8062753089765011\n"
     ]
    }
   ],
   "source": [
    "# Определяем лучшее дерево и его параметры\n",
    "\n",
    "best_model_dtc = None\n",
    "best_result_dtc = 0\n",
    "best_depth_dtc = 0\n",
    "for depth in range(1,11):\n",
    "    model = DecisionTreeClassifier(random_state=12345, max_depth=depth)\n",
    "    model.fit(features_train, target_train)\n",
    "    predicted_valid = model.predict(features_valid)\n",
    "    result = f1_score(target_valid, predicted_valid)\n",
    "    if result > best_result_dtc:\n",
    "        best_model_dtc = model\n",
    "        best_result_dtc = result\n",
    "        best_depth_dtc = depth\n",
    "        \n",
    "print(\"f1_score лучшей модели:\", best_result_dtc)\n",
    "print(\"Глубина лучшей модели:\", best_depth_dtc)\n",
    "\n",
    "probabilities_valid = best_model_dtc.predict_proba(features_valid)\n",
    "probabilities_one_valid = probabilities_valid[:, 1]\n",
    "\n",
    "auc_roc = roc_auc_score(target_valid, probabilities_one_valid)\n",
    "\n",
    "print(\"AUC ROC лучшей модели:\",auc_roc)\n",
    "\n",
    "basic_f1.append(best_result_dtc)\n",
    "basic_auc.append(auc_roc)"
   ]
  },
  {
   "cell_type": "code",
   "execution_count": 23,
   "metadata": {},
   "outputs": [
    {
     "name": "stdout",
     "output_type": "stream",
     "text": [
      "f1_score лучшей модели: 0.5689655172413792\n",
      "Кол-во оценщиков лучшей модели: 150\n",
      "Глубина лучшей модели: 17\n",
      "AUC ROC лучшей модели: 0.8360655737704917\n"
     ]
    }
   ],
   "source": [
    "# определяем лучшую модель леса и его параметры\n",
    "\n",
    "best_model_rfc = None\n",
    "best_result_rfc = 0\n",
    "best_est_rfc = 0\n",
    "best_depth_rfc = 0\n",
    "for est in range(10, 201, 20):\n",
    "    for depth in range (1, 21):\n",
    "        model = RandomForestClassifier(random_state=12345, n_estimators=est, max_depth=depth)\n",
    "        model.fit(features_train, target_train)\n",
    "        predicted_valid = model.predict(features_valid)\n",
    "        result = f1_score(target_valid, predicted_valid)\n",
    "        if result > best_result_rfc:\n",
    "            best_model_rfc = model\n",
    "            best_result_rfc = result\n",
    "            best_est_rfc = est\n",
    "            best_depth_rfc = depth\n",
    "            \n",
    "print(\"f1_score лучшей модели:\", best_result_rfc)\n",
    "print(\"Кол-во оценщиков лучшей модели:\", best_est_rfc)\n",
    "print(\"Глубина лучшей модели:\", best_depth_rfc)\n",
    "\n",
    "probabilities_valid = best_model_rfc.predict_proba(features_valid)\n",
    "probabilities_one_valid = probabilities_valid[:, 1]\n",
    "\n",
    "auc_roc = roc_auc_score(target_valid, probabilities_one_valid)\n",
    "\n",
    "print(\"AUC ROC лучшей модели:\",auc_roc)\n",
    "\n",
    "basic_f1.append(best_result_rfc)\n",
    "basic_auc.append(auc_roc)"
   ]
  },
  {
   "cell_type": "code",
   "execution_count": 24,
   "metadata": {},
   "outputs": [
    {
     "name": "stdout",
     "output_type": "stream",
     "text": [
      "f1_score лучшей модели: 0.3004115226337448\n",
      "Кол-во итераций лучшей модели: 100\n",
      "AUC ROC лучшей модели: 0.7725184031070766\n"
     ]
    }
   ],
   "source": [
    "# определяем лучшую логистическую регрессию и ее параметры\n",
    "\n",
    "best_model_lr = None\n",
    "best_result_lr = 0\n",
    "best_iter_lr = 0\n",
    "for itr in range(100,501,50):\n",
    "    model = LogisticRegression(random_state=12345, solver='lbfgs', max_iter=itr)\n",
    "    model.fit(features_train, target_train)\n",
    "    predicted_valid = model.predict(features_valid)\n",
    "    result = f1_score(target_valid, predicted_valid)\n",
    "    if result > best_result_lr:\n",
    "        best_model_lr = model\n",
    "        best_result_lr = result\n",
    "        best_iter_lr = itr\n",
    "        \n",
    "print(\"f1_score лучшей модели:\", best_result_lr)\n",
    "print(\"Кол-во итераций лучшей модели:\", best_iter_lr)\n",
    "\n",
    "probabilities_valid = best_model_lr.predict_proba(features_valid)\n",
    "probabilities_one_valid = probabilities_valid[:, 1]\n",
    "\n",
    "auc_roc = roc_auc_score(target_valid, probabilities_one_valid)\n",
    "\n",
    "print(\"AUC ROC лучшей модели:\",auc_roc)\n",
    "\n",
    "basic_f1.append(best_result_lr)\n",
    "basic_auc.append(auc_roc)"
   ]
  },
  {
   "cell_type": "markdown",
   "metadata": {},
   "source": [
    "**Комментарий:**\n",
    "- Модель логистической регрессии показывает результат хуже, чем константная модель\n",
    "- Лучший результат показала модель RandomForest"
   ]
  },
  {
   "cell_type": "markdown",
   "metadata": {},
   "source": [
    "**Комментарий:**\n",
    "\n",
    "Без корректировки дисбаланса лучший результат на валидационной выборке показала модель RandomForest:\n",
    "- F1 = 0.568\n",
    "- AUC-ROC = 0.836\n",
    "- Кол-во оценщиков: 150\n",
    "- Глубина: 17\n",
    "\n",
    "**Справочно - показатели других моделей:**\n",
    "\n",
    "DecisionTree\n",
    "- F1 = 0.557\n",
    "- AUC-ROC = 0.806\n",
    "\n",
    "LogisticRegression\n",
    "- F1 = 0.300 (меньше показателя константной модели)\n",
    "- AUC-ROC = 0.772"
   ]
  },
  {
   "cell_type": "markdown",
   "metadata": {},
   "source": [
    "## Борьба с дисбалансом"
   ]
  },
  {
   "cell_type": "markdown",
   "metadata": {},
   "source": [
    "### Upsampling"
   ]
  },
  {
   "cell_type": "code",
   "execution_count": 25,
   "metadata": {},
   "outputs": [],
   "source": [
    "upsampling_f1 = []\n",
    "upsampling_auc = []"
   ]
  },
  {
   "cell_type": "code",
   "execution_count": 26,
   "metadata": {},
   "outputs": [],
   "source": [
    "def upsample(features, target, repeat):\n",
    "    \n",
    "    features_zeros = features[target == 0]\n",
    "    features_ones = features[target == 1]\n",
    "    target_zeros = target[target == 0]\n",
    "    target_ones = target[target == 1]\n",
    "\n",
    "    features_upsampled = pd.concat([features_zeros] + [features_ones] * repeat)\n",
    "    target_upsampled = pd.concat([target_zeros] + [target_ones] * repeat)\n",
    "    features_upsampled = shuffle(features_upsampled, random_state=12345)\n",
    "    target_upsampled = shuffle(target_upsampled, random_state=12345)\n",
    "    \n",
    "    return features_upsampled, target_upsampled\n",
    "\n",
    "features_upsampled, target_upsampled = upsample(features_train, target_train, upsample_ratio)\n"
   ]
  },
  {
   "cell_type": "code",
   "execution_count": 27,
   "metadata": {},
   "outputs": [
    {
     "data": {
      "text/plain": [
       "(8811, 11)"
      ]
     },
     "execution_count": 27,
     "metadata": {},
     "output_type": "execute_result"
    }
   ],
   "source": [
    "features_upsampled.shape"
   ]
  },
  {
   "cell_type": "code",
   "execution_count": 28,
   "metadata": {},
   "outputs": [
    {
     "name": "stdout",
     "output_type": "stream",
     "text": [
      "f1_score лучшей модели: 0.5555555555555556\n",
      "Глубина лучшей модели: 7\n",
      "AUC ROC лучшей модели: 0.8150421878998629\n"
     ]
    }
   ],
   "source": [
    "best_model_dtc = None\n",
    "best_result_dtc = 0\n",
    "best_depth_dtc = 0\n",
    "for depth in range(1,11):\n",
    "    model = DecisionTreeClassifier(random_state=12345, max_depth=depth)\n",
    "    model.fit(features_upsampled, target_upsampled)\n",
    "    predicted_valid = model.predict(features_valid)\n",
    "    result = f1_score(target_valid, predicted_valid)\n",
    "    if result > best_result_dtc:\n",
    "        best_model_dtc = model\n",
    "        best_result_dtc = result\n",
    "        best_depth_dtc = depth\n",
    "        \n",
    "print(\"f1_score лучшей модели:\", best_result_dtc)\n",
    "print(\"Глубина лучшей модели:\", best_depth_dtc)\n",
    "\n",
    "probabilities_valid = best_model_dtc.predict_proba(features_valid)\n",
    "probabilities_one_valid = probabilities_valid[:, 1]\n",
    "\n",
    "auc_roc = roc_auc_score(target_valid, probabilities_one_valid)\n",
    "\n",
    "print(\"AUC ROC лучшей модели:\",auc_roc)\n",
    "\n",
    "upsampling_f1.append(best_result_dtc)\n",
    "upsampling_auc.append(auc_roc)"
   ]
  },
  {
   "cell_type": "code",
   "execution_count": 29,
   "metadata": {},
   "outputs": [
    {
     "name": "stdout",
     "output_type": "stream",
     "text": [
      "f1_score лучшей модели: 0.6046511627906976\n",
      "Кол-во оценщиков лучшей модели: 50\n",
      "Глубина лучшей модели: 14\n",
      "AUC ROC лучшей модели: 0.8398365171837601\n"
     ]
    }
   ],
   "source": [
    "best_model_rfc = None\n",
    "best_result_rfc = 0\n",
    "best_est_rfc = 0\n",
    "best_depth_rfc = 0\n",
    "for est in range(10, 201, 20):\n",
    "    for depth in range (1, 21):\n",
    "        model = RandomForestClassifier(random_state=12345, n_estimators=est, max_depth=depth)\n",
    "        model.fit(features_upsampled, target_upsampled)\n",
    "        predicted_valid = model.predict(features_valid)\n",
    "        result = f1_score(target_valid, predicted_valid)\n",
    "        if result > best_result_rfc:\n",
    "            best_model_rfc = model\n",
    "            best_result_rfc = result\n",
    "            best_est_rfc = est\n",
    "            best_depth_rfc = depth\n",
    "            \n",
    "print(\"f1_score лучшей модели:\", best_result_rfc)\n",
    "print(\"Кол-во оценщиков лучшей модели:\", best_est_rfc)\n",
    "print(\"Глубина лучшей модели:\", best_depth_rfc)\n",
    "\n",
    "probabilities_valid = best_model_rfc.predict_proba(features_valid)\n",
    "probabilities_one_valid = probabilities_valid[:, 1]\n",
    "\n",
    "auc_roc = roc_auc_score(target_valid, probabilities_one_valid)\n",
    "\n",
    "print(\"AUC ROC лучшей модели:\",auc_roc)\n",
    "\n",
    "upsampling_f1.append(best_result_rfc)\n",
    "upsampling_auc.append(auc_roc)"
   ]
  },
  {
   "cell_type": "code",
   "execution_count": 30,
   "metadata": {},
   "outputs": [
    {
     "name": "stdout",
     "output_type": "stream",
     "text": [
      "f1_score лучшей модели: 0.4956605593056895\n",
      "Кол-во итераций лучшей модели: 100\n",
      "AUC ROC лучшей модели: 0.7748347860121332\n"
     ]
    }
   ],
   "source": [
    "best_model_lr = None\n",
    "best_result_lr = 0\n",
    "best_iter_lr = 0\n",
    "for itr in range(100,501,50):\n",
    "    model = LogisticRegression(random_state=12345, solver='lbfgs', max_iter=itr)\n",
    "    model.fit(features_upsampled, target_upsampled)\n",
    "    predicted_valid = model.predict(features_valid)\n",
    "    result = f1_score(target_valid, predicted_valid)\n",
    "    if result > best_result_lr:\n",
    "        best_model_lr = model\n",
    "        best_result_lr = result\n",
    "        best_iter_lr = itr\n",
    "        \n",
    "print(\"f1_score лучшей модели:\", best_result_lr)\n",
    "print(\"Кол-во итераций лучшей модели:\", best_iter_lr)\n",
    "\n",
    "probabilities_valid = best_model_lr.predict_proba(features_valid)\n",
    "probabilities_one_valid = probabilities_valid[:, 1]\n",
    "\n",
    "auc_roc = roc_auc_score(target_valid, probabilities_one_valid)\n",
    "\n",
    "print(\"AUC ROC лучшей модели:\",auc_roc)\n",
    "\n",
    "upsampling_f1.append(best_result_lr)\n",
    "upsampling_auc.append(auc_roc)"
   ]
  },
  {
   "cell_type": "markdown",
   "metadata": {},
   "source": [
    "### Балансировка классов"
   ]
  },
  {
   "cell_type": "code",
   "execution_count": 31,
   "metadata": {},
   "outputs": [],
   "source": [
    "balancing_f1 = []\n",
    "balancing_auc = []"
   ]
  },
  {
   "cell_type": "code",
   "execution_count": 32,
   "metadata": {},
   "outputs": [
    {
     "name": "stdout",
     "output_type": "stream",
     "text": [
      "f1_score лучшей модели: 0.5555555555555556\n",
      "Глубина лучшей модели: 7\n",
      "AUC ROC лучшей модели: 0.8150158439838022\n"
     ]
    }
   ],
   "source": [
    "best_model_dtc = None\n",
    "best_result_dtc = 0\n",
    "best_depth_dtc = 0\n",
    "for depth in range(1,11):\n",
    "    model = DecisionTreeClassifier(random_state=12345,\n",
    "                                   max_depth=depth,\n",
    "                                   class_weight='balanced')\n",
    "    model.fit(features_train, target_train)\n",
    "    predicted_valid = model.predict(features_valid)\n",
    "    result = f1_score(target_valid, predicted_valid)\n",
    "    if result > best_result_dtc:\n",
    "        best_model_dtc = model\n",
    "        best_result_dtc = result\n",
    "        best_depth_dtc = depth\n",
    "        \n",
    "print(\"f1_score лучшей модели:\", best_result_dtc)\n",
    "print(\"Глубина лучшей модели:\", best_depth_dtc)\n",
    "\n",
    "probabilities_valid = best_model_dtc.predict_proba(features_valid)\n",
    "probabilities_one_valid = probabilities_valid[:, 1]\n",
    "\n",
    "auc_roc = roc_auc_score(target_valid, probabilities_one_valid)\n",
    "\n",
    "print(\"AUC ROC лучшей модели:\",auc_roc)\n",
    "\n",
    "balancing_f1.append(best_result_dtc)\n",
    "balancing_auc.append(auc_roc)"
   ]
  },
  {
   "cell_type": "code",
   "execution_count": 33,
   "metadata": {},
   "outputs": [
    {
     "name": "stdout",
     "output_type": "stream",
     "text": [
      "f1_score лучшей модели: 0.6075949367088607\n",
      "Кол-во оценщиков лучшей модели: 150\n",
      "Глубина лучшей модели: 10\n",
      "AUC ROC лучшей модели: 0.8489214048081409\n"
     ]
    }
   ],
   "source": [
    "best_model_rfc = None\n",
    "best_result_rfc = 0\n",
    "best_est_rfc = 0\n",
    "best_depth_rfc = 0\n",
    "for est in range(10, 201, 20):\n",
    "    for depth in range (1, 21):\n",
    "        model = RandomForestClassifier(random_state=12345,\n",
    "                                       n_estimators=est,\n",
    "                                       max_depth=depth,\n",
    "                                       class_weight='balanced')\n",
    "        model.fit(features_train, target_train)\n",
    "        predicted_valid = model.predict(features_valid)\n",
    "        result = f1_score(target_valid, predicted_valid)\n",
    "        if result > best_result_rfc:\n",
    "            best_model_rfc = model\n",
    "            best_result_rfc = result\n",
    "            best_est_rfc = est\n",
    "            best_depth_rfc = depth\n",
    "            \n",
    "print(\"f1_score лучшей модели:\", best_result_rfc)\n",
    "print(\"Кол-во оценщиков лучшей модели:\", best_est_rfc)\n",
    "print(\"Глубина лучшей модели:\", best_depth_rfc)\n",
    "\n",
    "probabilities_valid = best_model_rfc.predict_proba(features_valid)\n",
    "probabilities_one_valid = probabilities_valid[:, 1]\n",
    "\n",
    "auc_roc = roc_auc_score(target_valid, probabilities_one_valid)\n",
    "\n",
    "print(\"AUC ROC лучшей модели:\",auc_roc)\n",
    "\n",
    "balancing_f1.append(best_result_rfc)\n",
    "balancing_auc.append(auc_roc)"
   ]
  },
  {
   "cell_type": "code",
   "execution_count": 34,
   "metadata": {},
   "outputs": [
    {
     "name": "stdout",
     "output_type": "stream",
     "text": [
      "f1_score лучшей модели: 0.49506903353057197\n",
      "Кол-во итераций лучшей модели: 100\n",
      "AUC ROC лучшей модели: 0.7747820981800118\n"
     ]
    }
   ],
   "source": [
    "best_model_lr = None\n",
    "best_result_lr = 0\n",
    "best_iter_lr = 0\n",
    "for itr in range(100,501,50):\n",
    "    model = LogisticRegression(random_state=12345,\n",
    "                               solver='lbfgs',\n",
    "                               max_iter=itr,\n",
    "                               class_weight='balanced')\n",
    "    model.fit(features_train, target_train)\n",
    "    predicted_valid = model.predict(features_valid)\n",
    "    result = f1_score(target_valid, predicted_valid)\n",
    "    if result > best_result_lr:\n",
    "        best_model_lr = model\n",
    "        best_result_lr = result\n",
    "        best_iter_lr = itr\n",
    "        \n",
    "print(\"f1_score лучшей модели:\", best_result_lr)\n",
    "print(\"Кол-во итераций лучшей модели:\", best_iter_lr)\n",
    "\n",
    "probabilities_valid = best_model_lr.predict_proba(features_valid)\n",
    "probabilities_one_valid = probabilities_valid[:, 1]\n",
    "\n",
    "auc_roc = roc_auc_score(target_valid, probabilities_one_valid)\n",
    "\n",
    "print(\"AUC ROC лучшей модели:\",auc_roc)\n",
    "\n",
    "balancing_f1.append(best_result_lr)\n",
    "balancing_auc.append(auc_roc)"
   ]
  },
  {
   "cell_type": "markdown",
   "metadata": {},
   "source": [
    "### Downsampling"
   ]
  },
  {
   "cell_type": "code",
   "execution_count": 35,
   "metadata": {},
   "outputs": [],
   "source": [
    "downsampling_f1 = []\n",
    "downsampling_auc = []"
   ]
  },
  {
   "cell_type": "code",
   "execution_count": 36,
   "metadata": {},
   "outputs": [],
   "source": [
    "def downsample(features, target, fraction):\n",
    "    \n",
    "    features_zeros = features[target == 0]\n",
    "    features_ones = features[target == 1]\n",
    "    target_zeros = target[target == 0]\n",
    "    target_ones = target[target == 1]\n",
    "    \n",
    "    features_zeros = features_zeros.sample(frac=fraction, random_state=12345)\n",
    "    target_zeros = target_zeros.sample(frac=fraction, random_state=12345)\n",
    "    \n",
    "    features_downsampled = pd.concat([features_zeros] + [features_ones])\n",
    "    target_downsampled = pd.concat([target_zeros] + [target_ones])\n",
    "    features_downsampled = shuffle(features_downsampled, random_state=12345)\n",
    "    target_downsampled = shuffle(target_downsampled, random_state=12345)\n",
    "    \n",
    "    return features_downsampled, target_downsampled\n",
    "\n",
    "downsample_ratio = 1 / upsample_ratio\n",
    "features_downsampled, target_downsampled = downsample(features_train, target_train, downsample_ratio)\n"
   ]
  },
  {
   "cell_type": "code",
   "execution_count": 37,
   "metadata": {},
   "outputs": [
    {
     "data": {
      "text/plain": [
       "(2203, 11)"
      ]
     },
     "execution_count": 37,
     "metadata": {},
     "output_type": "execute_result"
    }
   ],
   "source": [
    "features_downsampled.shape"
   ]
  },
  {
   "cell_type": "code",
   "execution_count": 38,
   "metadata": {},
   "outputs": [
    {
     "name": "stdout",
     "output_type": "stream",
     "text": [
      "f1_score лучшей модели: 0.553191489361702\n",
      "Глубина лучшей модели: 5\n",
      "AUC ROC лучшей модели: 0.8094826807568983\n"
     ]
    }
   ],
   "source": [
    "best_model_dtc = None\n",
    "best_result_dtc = 0\n",
    "best_depth_dtc = 0\n",
    "for depth in range(1,11):\n",
    "    model = DecisionTreeClassifier(random_state=12345, max_depth=depth)\n",
    "    model.fit(features_downsampled, target_downsampled)\n",
    "    predicted_valid = model.predict(features_valid)\n",
    "    result = f1_score(target_valid, predicted_valid)\n",
    "    if result > best_result_dtc:\n",
    "        best_model_dtc = model\n",
    "        best_result_dtc = result\n",
    "        best_depth_dtc = depth\n",
    "        \n",
    "print(\"f1_score лучшей модели:\", best_result_dtc)\n",
    "print(\"Глубина лучшей модели:\", best_depth_dtc)\n",
    "\n",
    "probabilities_valid = best_model_dtc.predict_proba(features_valid)\n",
    "probabilities_one_valid = probabilities_valid[:, 1]\n",
    "\n",
    "auc_roc = roc_auc_score(target_valid, probabilities_one_valid)\n",
    "\n",
    "print(\"AUC ROC лучшей модели:\",auc_roc)\n",
    "\n",
    "downsampling_f1.append(best_result_dtc)\n",
    "downsampling_auc.append(auc_roc)"
   ]
  },
  {
   "cell_type": "code",
   "execution_count": 39,
   "metadata": {},
   "outputs": [
    {
     "name": "stdout",
     "output_type": "stream",
     "text": [
      "f1_score лучшей модели: 0.5930735930735932\n",
      "Кол-во оценщиков лучшей модели: 130\n",
      "Глубина лучшей модели: 10\n",
      "AUC ROC лучшей модели: 0.8492770476749613\n"
     ]
    }
   ],
   "source": [
    "best_model_rfc = None\n",
    "best_result_rfc = 0\n",
    "best_est_rfc = 0\n",
    "best_depth_rfc = 0\n",
    "for est in range(10, 201, 20):\n",
    "    for depth in range (1, 21):\n",
    "        model = RandomForestClassifier(random_state=12345, n_estimators=est, max_depth=depth)\n",
    "        model.fit(features_downsampled, target_downsampled)\n",
    "        predicted_valid = model.predict(features_valid)\n",
    "        result = f1_score(target_valid, predicted_valid)\n",
    "        if result > best_result_rfc:\n",
    "            best_model_rfc = model\n",
    "            best_result_rfc = result\n",
    "            best_est_rfc = est\n",
    "            best_depth_rfc = depth\n",
    "            \n",
    "print(\"f1_score лучшей модели:\", best_result_rfc)\n",
    "print(\"Кол-во оценщиков лучшей модели:\", best_est_rfc)\n",
    "print(\"Глубина лучшей модели:\", best_depth_rfc)\n",
    "\n",
    "probabilities_valid = best_model_rfc.predict_proba(features_valid)\n",
    "probabilities_one_valid = probabilities_valid[:, 1]\n",
    "\n",
    "auc_roc = roc_auc_score(target_valid, probabilities_one_valid)\n",
    "\n",
    "print(\"AUC ROC лучшей модели:\",auc_roc)\n",
    "\n",
    "downsampling_f1.append(best_result_rfc)\n",
    "downsampling_auc.append(auc_roc)"
   ]
  },
  {
   "cell_type": "code",
   "execution_count": 40,
   "metadata": {},
   "outputs": [
    {
     "name": "stdout",
     "output_type": "stream",
     "text": [
      "f1_score лучшей модели: 0.5\n",
      "Кол-во итераций лучшей модели: 100\n",
      "AUC ROC лучшей модели: 0.7755178461214228\n"
     ]
    }
   ],
   "source": [
    "best_model_lr = None\n",
    "best_result_lr = 0\n",
    "best_iter_lr = 0\n",
    "for itr in range(100,501,50):\n",
    "    model = LogisticRegression(random_state=12345, solver='lbfgs', max_iter=itr)\n",
    "    model.fit(features_downsampled, target_downsampled)\n",
    "    predicted_valid = model.predict(features_valid)\n",
    "    result = f1_score(target_valid, predicted_valid)\n",
    "    if result > best_result_lr:\n",
    "        best_model_lr = model\n",
    "        best_result_lr = result\n",
    "        best_iter_lr = itr\n",
    "        \n",
    "print(\"f1_score лучшей модели:\", best_result_lr)\n",
    "print(\"Кол-во итераций лучшей модели:\", best_iter_lr)\n",
    "\n",
    "probabilities_valid = best_model_lr.predict_proba(features_valid)\n",
    "probabilities_one_valid = probabilities_valid[:, 1]\n",
    "\n",
    "auc_roc = roc_auc_score(target_valid, probabilities_one_valid)\n",
    "\n",
    "print(\"AUC ROC лучшей модели:\",auc_roc)\n",
    "\n",
    "downsampling_f1.append(best_result_lr)\n",
    "downsampling_auc.append(auc_roc)"
   ]
  },
  {
   "cell_type": "markdown",
   "metadata": {},
   "source": [
    "### Выбор лучшей модели и подбор порога классификации"
   ]
  },
  {
   "cell_type": "code",
   "execution_count": 41,
   "metadata": {},
   "outputs": [
    {
     "name": "stdout",
     "output_type": "stream",
     "text": [
      "f1 results\n"
     ]
    },
    {
     "data": {
      "text/html": [
       "<div>\n",
       "<style scoped>\n",
       "    .dataframe tbody tr th:only-of-type {\n",
       "        vertical-align: middle;\n",
       "    }\n",
       "\n",
       "    .dataframe tbody tr th {\n",
       "        vertical-align: top;\n",
       "    }\n",
       "\n",
       "    .dataframe thead th {\n",
       "        text-align: right;\n",
       "    }\n",
       "</style>\n",
       "<table border=\"1\" class=\"dataframe\">\n",
       "  <thead>\n",
       "    <tr style=\"text-align: right;\">\n",
       "      <th></th>\n",
       "      <th>basic</th>\n",
       "      <th>upsampling</th>\n",
       "      <th>balancing</th>\n",
       "      <th>downsampling</th>\n",
       "    </tr>\n",
       "  </thead>\n",
       "  <tbody>\n",
       "    <tr>\n",
       "      <th>dtc</th>\n",
       "      <td>0.557427</td>\n",
       "      <td>0.555556</td>\n",
       "      <td>0.555556</td>\n",
       "      <td>0.553191</td>\n",
       "    </tr>\n",
       "    <tr>\n",
       "      <th>rfc</th>\n",
       "      <td>0.568966</td>\n",
       "      <td>0.604651</td>\n",
       "      <td>0.607595</td>\n",
       "      <td>0.593074</td>\n",
       "    </tr>\n",
       "    <tr>\n",
       "      <th>lr</th>\n",
       "      <td>0.300412</td>\n",
       "      <td>0.495661</td>\n",
       "      <td>0.495069</td>\n",
       "      <td>0.500000</td>\n",
       "    </tr>\n",
       "  </tbody>\n",
       "</table>\n",
       "</div>"
      ],
      "text/plain": [
       "        basic  upsampling  balancing  downsampling\n",
       "dtc  0.557427    0.555556   0.555556      0.553191\n",
       "rfc  0.568966    0.604651   0.607595      0.593074\n",
       "lr   0.300412    0.495661   0.495069      0.500000"
      ]
     },
     "metadata": {},
     "output_type": "display_data"
    },
    {
     "name": "stdout",
     "output_type": "stream",
     "text": [
      "auc-roc results\n"
     ]
    },
    {
     "data": {
      "text/html": [
       "<div>\n",
       "<style scoped>\n",
       "    .dataframe tbody tr th:only-of-type {\n",
       "        vertical-align: middle;\n",
       "    }\n",
       "\n",
       "    .dataframe tbody tr th {\n",
       "        vertical-align: top;\n",
       "    }\n",
       "\n",
       "    .dataframe thead th {\n",
       "        text-align: right;\n",
       "    }\n",
       "</style>\n",
       "<table border=\"1\" class=\"dataframe\">\n",
       "  <thead>\n",
       "    <tr style=\"text-align: right;\">\n",
       "      <th></th>\n",
       "      <th>basic</th>\n",
       "      <th>upsampling</th>\n",
       "      <th>balancing</th>\n",
       "      <th>downsampling</th>\n",
       "    </tr>\n",
       "  </thead>\n",
       "  <tbody>\n",
       "    <tr>\n",
       "      <th>dtc</th>\n",
       "      <td>0.806275</td>\n",
       "      <td>0.815042</td>\n",
       "      <td>0.815016</td>\n",
       "      <td>0.809483</td>\n",
       "    </tr>\n",
       "    <tr>\n",
       "      <th>rfc</th>\n",
       "      <td>0.836066</td>\n",
       "      <td>0.839837</td>\n",
       "      <td>0.848921</td>\n",
       "      <td>0.849277</td>\n",
       "    </tr>\n",
       "    <tr>\n",
       "      <th>lr</th>\n",
       "      <td>0.772518</td>\n",
       "      <td>0.774835</td>\n",
       "      <td>0.774782</td>\n",
       "      <td>0.775518</td>\n",
       "    </tr>\n",
       "  </tbody>\n",
       "</table>\n",
       "</div>"
      ],
      "text/plain": [
       "        basic  upsampling  balancing  downsampling\n",
       "dtc  0.806275    0.815042   0.815016      0.809483\n",
       "rfc  0.836066    0.839837   0.848921      0.849277\n",
       "lr   0.772518    0.774835   0.774782      0.775518"
      ]
     },
     "metadata": {},
     "output_type": "display_data"
    }
   ],
   "source": [
    "# Сведем результаты моделей\n",
    "\n",
    "index = ['dtc','rfc','lr']\n",
    "\n",
    "f1_results = {'basic' : basic_f1,\n",
    "              'upsampling' : upsampling_f1,\n",
    "              'balancing' : balancing_f1,\n",
    "              'downsampling' : downsampling_f1\n",
    "             }\n",
    "f1_results_df = pd.DataFrame(f1_results, index=index)\n",
    "print('f1 results')\n",
    "display(f1_results_df)\n",
    "\n",
    "auc_results = {'basic' : basic_auc,\n",
    "              'upsampling' : upsampling_auc,\n",
    "              'balancing' : balancing_auc,\n",
    "              'downsampling' : downsampling_auc\n",
    "             }\n",
    "auc_results_df = pd.DataFrame(auc_results, index=index)\n",
    "print('auc-roc results')\n",
    "display(auc_results_df)\n"
   ]
  },
  {
   "cell_type": "markdown",
   "metadata": {},
   "source": [
    "**Комментарий:**\n",
    "- наилучший результат F1 показывает модель RandomForest c учетом балансировки классов\n",
    "- модель также показывает топ-2 результат по AUC-ROC"
   ]
  },
  {
   "cell_type": "code",
   "execution_count": 42,
   "metadata": {},
   "outputs": [
    {
     "name": "stdout",
     "output_type": "stream",
     "text": [
      "f1_score check: 0.6059743954480795\n"
     ]
    }
   ],
   "source": [
    "model = RandomForestClassifier(random_state=12345,\n",
    "                               n_estimators=90,\n",
    "                               max_depth=10,\n",
    "                               class_weight='balanced')\n",
    "model.fit(features_train, target_train)\n",
    "predicted_valid = model.predict(features_valid)\n",
    "result = f1_score(target_valid, predicted_valid)\n",
    "            \n",
    "print(\"f1_score check:\", result)"
   ]
  },
  {
   "cell_type": "code",
   "execution_count": 43,
   "metadata": {},
   "outputs": [
    {
     "name": "stdout",
     "output_type": "stream",
     "text": [
      "Порог 0.5 f1_score 0.6059743954480795\n"
     ]
    },
    {
     "data": {
      "text/plain": [
       "RandomForestClassifier(class_weight='balanced', max_depth=10, n_estimators=90,\n",
       "                       random_state=12345)"
      ]
     },
     "execution_count": 43,
     "metadata": {},
     "output_type": "execute_result"
    }
   ],
   "source": [
    "# Подберем порог классификации\n",
    "\n",
    "probabilities_valid = model.predict_proba(features_valid)\n",
    "probabilities_one_valid = probabilities_valid[:, 1]\n",
    "\n",
    "best_result = 0\n",
    "best_threshold = 0\n",
    "\n",
    "for threshold in np.arange(0, 0.7, 0.02):\n",
    "    predicted_valid = probabilities_one_valid > threshold\n",
    "    result = f1_score(target_valid, predicted_valid)\n",
    "    if result > best_result:\n",
    "        best_result = result\n",
    "        best_threshold = threshold\n",
    "\n",
    "print(\"Порог\", best_threshold, \"f1_score\", best_result)\n",
    "model"
   ]
  },
  {
   "cell_type": "markdown",
   "metadata": {},
   "source": [
    "**Выводы:**\n",
    "\n",
    "Наилучший результат F1 показывает модель RandomForest c учетом балансировки классов:\n",
    "- F1 = 0.61\n",
    "- AUC-ROC = 0.84 (топ-2 результат)\n",
    "\n",
    "Параметры модели:\n",
    "- Кол-во оценщиков: 90\n",
    "- Глубина: 10\n",
    "- Порог классификации: 0.5\n",
    "- class_weight='balanced'\n"
   ]
  },
  {
   "cell_type": "code",
   "execution_count": 44,
   "metadata": {},
   "outputs": [
    {
     "data": {
      "text/plain": [
       "0.5"
      ]
     },
     "execution_count": 44,
     "metadata": {},
     "output_type": "execute_result"
    }
   ],
   "source": [
    "best_threshold"
   ]
  },
  {
   "cell_type": "markdown",
   "metadata": {},
   "source": [
    "## Тестирование модели"
   ]
  },
  {
   "cell_type": "code",
   "execution_count": 45,
   "metadata": {},
   "outputs": [
    {
     "name": "stdout",
     "output_type": "stream",
     "text": [
      "f1_score 0.5986206896551723\n"
     ]
    }
   ],
   "source": [
    "probabilities_test = model.predict_proba(features_test)\n",
    "probabilities_one_test = probabilities_test[:, 1]\n",
    "\n",
    "predicted_test = probabilities_one_test > best_threshold\n",
    "result = f1_score(target_test, predicted_test)\n",
    "print(\"f1_score\", result)"
   ]
  },
  {
   "cell_type": "markdown",
   "metadata": {},
   "source": [
    "**Комментарий:** Выбранная модель (RandomForest) достигла целевого показателя по точности на тестовой выборке"
   ]
  },
  {
   "cell_type": "markdown",
   "metadata": {},
   "source": [
    "## Ключевые выводы"
   ]
  },
  {
   "cell_type": "markdown",
   "metadata": {},
   "source": [
    "Приоритетной является модель RandomForest, полученная с учетом балансировки классов.\n",
    "Модель показала высокий уровень метрик качества на валидационной выборке:\n",
    "- F1 = 0.61 (превышение целевого показателя)\n",
    "- AUC-ROC = 0.84 (топ-2 результат)\n",
    "\n",
    "На тестовой выборке F1 = 0.60 (превышение целевого показателя)\n",
    "\n",
    "Параметры модели:\n",
    "- Кол-во оценщиков: 90\n",
    "- Глубина: 10\n",
    "- Порог классификации: 0.5\n",
    "- class_weight='balanced'"
   ]
  },
  {
   "cell_type": "code",
   "execution_count": null,
   "metadata": {},
   "outputs": [],
   "source": []
  }
 ],
 "metadata": {
  "ExecuteTimeLog": [
   {
    "duration": 1029,
    "start_time": "2022-12-05T16:51:03.188Z"
   },
   {
    "duration": 370,
    "start_time": "2022-12-05T16:51:06.742Z"
   },
   {
    "duration": 9,
    "start_time": "2022-12-05T16:51:50.081Z"
   },
   {
    "duration": 20,
    "start_time": "2022-12-05T16:54:47.816Z"
   },
   {
    "duration": 11,
    "start_time": "2022-12-05T17:46:17.542Z"
   },
   {
    "duration": 5,
    "start_time": "2022-12-05T18:12:30.683Z"
   },
   {
    "duration": 20,
    "start_time": "2022-12-05T18:28:48.965Z"
   },
   {
    "duration": 7,
    "start_time": "2022-12-05T18:56:02.180Z"
   },
   {
    "duration": 7,
    "start_time": "2022-12-05T18:57:04.904Z"
   },
   {
    "duration": 6,
    "start_time": "2022-12-05T18:57:39.765Z"
   },
   {
    "duration": 4,
    "start_time": "2022-12-05T18:58:23.425Z"
   },
   {
    "duration": 14,
    "start_time": "2022-12-05T18:59:40.356Z"
   },
   {
    "duration": 11,
    "start_time": "2022-12-05T18:59:46.768Z"
   },
   {
    "duration": 5,
    "start_time": "2022-12-05T19:01:00.632Z"
   },
   {
    "duration": 6,
    "start_time": "2022-12-05T19:01:05.864Z"
   },
   {
    "duration": 4,
    "start_time": "2022-12-05T19:07:12.656Z"
   },
   {
    "duration": 12,
    "start_time": "2022-12-05T19:07:22.985Z"
   },
   {
    "duration": 95,
    "start_time": "2022-12-05T19:10:32.523Z"
   },
   {
    "duration": 1077,
    "start_time": "2022-12-05T19:10:38.709Z"
   },
   {
    "duration": 39,
    "start_time": "2022-12-05T19:10:39.788Z"
   },
   {
    "duration": 27,
    "start_time": "2022-12-05T19:10:39.829Z"
   },
   {
    "duration": 30,
    "start_time": "2022-12-05T19:10:39.858Z"
   },
   {
    "duration": 22,
    "start_time": "2022-12-05T19:10:39.889Z"
   },
   {
    "duration": 36,
    "start_time": "2022-12-05T19:10:39.912Z"
   },
   {
    "duration": 17,
    "start_time": "2022-12-05T19:10:39.949Z"
   },
   {
    "duration": 38,
    "start_time": "2022-12-05T19:10:39.968Z"
   },
   {
    "duration": 31,
    "start_time": "2022-12-05T19:10:40.008Z"
   },
   {
    "duration": 66,
    "start_time": "2022-12-05T19:10:40.042Z"
   },
   {
    "duration": 43,
    "start_time": "2022-12-05T19:10:40.110Z"
   },
   {
    "duration": 7,
    "start_time": "2022-12-05T19:13:37.052Z"
   },
   {
    "duration": 12,
    "start_time": "2022-12-05T19:13:50.418Z"
   },
   {
    "duration": 1030,
    "start_time": "2022-12-05T19:14:01.362Z"
   },
   {
    "duration": 40,
    "start_time": "2022-12-05T19:14:02.393Z"
   },
   {
    "duration": 19,
    "start_time": "2022-12-05T19:14:02.435Z"
   },
   {
    "duration": 12,
    "start_time": "2022-12-05T19:14:02.455Z"
   },
   {
    "duration": 4,
    "start_time": "2022-12-05T19:14:02.468Z"
   },
   {
    "duration": 30,
    "start_time": "2022-12-05T19:14:02.473Z"
   },
   {
    "duration": 15,
    "start_time": "2022-12-05T19:14:02.504Z"
   },
   {
    "duration": 31,
    "start_time": "2022-12-05T19:14:02.525Z"
   },
   {
    "duration": 3,
    "start_time": "2022-12-05T19:14:02.557Z"
   },
   {
    "duration": 15,
    "start_time": "2022-12-05T19:14:02.563Z"
   },
   {
    "duration": 6,
    "start_time": "2022-12-05T19:14:02.579Z"
   },
   {
    "duration": 11,
    "start_time": "2022-12-05T19:14:02.587Z"
   },
   {
    "duration": 24,
    "start_time": "2022-12-05T19:14:02.599Z"
   },
   {
    "duration": 5,
    "start_time": "2022-12-05T19:15:01.465Z"
   },
   {
    "duration": 6,
    "start_time": "2022-12-05T19:15:04.068Z"
   },
   {
    "duration": 15,
    "start_time": "2022-12-05T19:15:47.740Z"
   },
   {
    "duration": 1083,
    "start_time": "2022-12-05T19:16:00.964Z"
   },
   {
    "duration": 47,
    "start_time": "2022-12-05T19:16:02.050Z"
   },
   {
    "duration": 20,
    "start_time": "2022-12-05T19:16:02.099Z"
   },
   {
    "duration": 16,
    "start_time": "2022-12-05T19:16:02.121Z"
   },
   {
    "duration": 12,
    "start_time": "2022-12-05T19:16:02.139Z"
   },
   {
    "duration": 25,
    "start_time": "2022-12-05T19:16:02.153Z"
   },
   {
    "duration": 21,
    "start_time": "2022-12-05T19:16:02.180Z"
   },
   {
    "duration": 21,
    "start_time": "2022-12-05T19:16:02.203Z"
   },
   {
    "duration": 8,
    "start_time": "2022-12-05T19:16:02.225Z"
   },
   {
    "duration": 16,
    "start_time": "2022-12-05T19:16:02.235Z"
   },
   {
    "duration": 41,
    "start_time": "2022-12-05T19:16:02.253Z"
   },
   {
    "duration": 1087,
    "start_time": "2022-12-05T19:24:06.655Z"
   },
   {
    "duration": 40,
    "start_time": "2022-12-05T19:24:07.744Z"
   },
   {
    "duration": 18,
    "start_time": "2022-12-05T19:24:07.786Z"
   },
   {
    "duration": 29,
    "start_time": "2022-12-05T19:24:07.806Z"
   },
   {
    "duration": 7,
    "start_time": "2022-12-05T19:24:07.837Z"
   },
   {
    "duration": 19,
    "start_time": "2022-12-05T19:24:07.845Z"
   },
   {
    "duration": 15,
    "start_time": "2022-12-05T19:24:07.865Z"
   },
   {
    "duration": 23,
    "start_time": "2022-12-05T19:24:07.882Z"
   },
   {
    "duration": 17,
    "start_time": "2022-12-05T19:24:07.907Z"
   },
   {
    "duration": 31,
    "start_time": "2022-12-05T19:24:07.926Z"
   },
   {
    "duration": 45,
    "start_time": "2022-12-05T19:24:07.959Z"
   },
   {
    "duration": 12,
    "start_time": "2022-12-05T19:30:12.175Z"
   },
   {
    "duration": 14,
    "start_time": "2022-12-05T19:30:25.351Z"
   },
   {
    "duration": 1082,
    "start_time": "2022-12-05T19:31:13.025Z"
   },
   {
    "duration": 39,
    "start_time": "2022-12-05T19:31:14.109Z"
   },
   {
    "duration": 18,
    "start_time": "2022-12-05T19:31:14.150Z"
   },
   {
    "duration": 11,
    "start_time": "2022-12-05T19:31:14.171Z"
   },
   {
    "duration": 4,
    "start_time": "2022-12-05T19:31:14.183Z"
   },
   {
    "duration": 6,
    "start_time": "2022-12-05T19:31:14.189Z"
   },
   {
    "duration": 9,
    "start_time": "2022-12-05T19:31:14.197Z"
   },
   {
    "duration": 5,
    "start_time": "2022-12-05T19:31:14.226Z"
   },
   {
    "duration": 9,
    "start_time": "2022-12-05T19:31:14.232Z"
   },
   {
    "duration": 19,
    "start_time": "2022-12-05T19:31:14.243Z"
   },
   {
    "duration": 17,
    "start_time": "2022-12-05T19:31:14.263Z"
   },
   {
    "duration": 17,
    "start_time": "2022-12-05T19:31:14.281Z"
   },
   {
    "duration": 5,
    "start_time": "2022-12-05T19:31:14.299Z"
   },
   {
    "duration": 1028,
    "start_time": "2022-12-05T20:12:23.175Z"
   },
   {
    "duration": 45,
    "start_time": "2022-12-05T20:12:24.205Z"
   },
   {
    "duration": 22,
    "start_time": "2022-12-05T20:12:24.252Z"
   },
   {
    "duration": 14,
    "start_time": "2022-12-05T20:12:24.277Z"
   },
   {
    "duration": 19,
    "start_time": "2022-12-05T20:12:24.292Z"
   },
   {
    "duration": 17,
    "start_time": "2022-12-05T20:12:24.313Z"
   },
   {
    "duration": 15,
    "start_time": "2022-12-05T20:12:24.332Z"
   },
   {
    "duration": 10,
    "start_time": "2022-12-05T20:12:24.349Z"
   },
   {
    "duration": 14,
    "start_time": "2022-12-05T20:12:24.361Z"
   },
   {
    "duration": 17,
    "start_time": "2022-12-05T20:12:24.378Z"
   },
   {
    "duration": 19,
    "start_time": "2022-12-05T20:12:24.397Z"
   },
   {
    "duration": 26,
    "start_time": "2022-12-05T20:12:24.417Z"
   },
   {
    "duration": 7,
    "start_time": "2022-12-05T20:12:24.445Z"
   },
   {
    "duration": 36,
    "start_time": "2022-12-05T20:12:24.453Z"
   },
   {
    "duration": 1092,
    "start_time": "2022-12-07T20:33:38.936Z"
   },
   {
    "duration": 170,
    "start_time": "2022-12-07T20:33:40.030Z"
   },
   {
    "duration": 24,
    "start_time": "2022-12-07T20:33:40.202Z"
   },
   {
    "duration": 15,
    "start_time": "2022-12-07T20:33:40.229Z"
   },
   {
    "duration": 12,
    "start_time": "2022-12-07T20:33:40.246Z"
   },
   {
    "duration": 23,
    "start_time": "2022-12-07T20:33:40.259Z"
   },
   {
    "duration": 19,
    "start_time": "2022-12-07T20:33:40.283Z"
   },
   {
    "duration": 18,
    "start_time": "2022-12-07T20:33:40.303Z"
   },
   {
    "duration": 20,
    "start_time": "2022-12-07T20:33:40.323Z"
   },
   {
    "duration": 25,
    "start_time": "2022-12-07T20:33:40.346Z"
   },
   {
    "duration": 47,
    "start_time": "2022-12-07T20:33:40.373Z"
   },
   {
    "duration": 28,
    "start_time": "2022-12-07T20:33:40.422Z"
   },
   {
    "duration": 15,
    "start_time": "2022-12-07T20:33:40.452Z"
   },
   {
    "duration": 39,
    "start_time": "2022-12-07T20:33:40.469Z"
   },
   {
    "duration": 141,
    "start_time": "2022-12-07T20:44:09.303Z"
   },
   {
    "duration": 14641,
    "start_time": "2022-12-07T20:44:44.755Z"
   },
   {
    "duration": 51447,
    "start_time": "2022-12-07T20:45:16.216Z"
   },
   {
    "duration": 837,
    "start_time": "2022-12-07T20:46:42.790Z"
   },
   {
    "duration": 7472,
    "start_time": "2022-12-07T20:47:05.263Z"
   },
   {
    "duration": 2118,
    "start_time": "2022-12-07T20:47:17.509Z"
   },
   {
    "duration": 2641,
    "start_time": "2022-12-07T20:47:25.492Z"
   },
   {
    "duration": 3282,
    "start_time": "2022-12-07T20:47:34.052Z"
   },
   {
    "duration": 4687,
    "start_time": "2022-12-07T20:47:43.852Z"
   },
   {
    "duration": 1655,
    "start_time": "2022-12-07T20:49:43.174Z"
   },
   {
    "duration": 1146,
    "start_time": "2022-12-07T21:24:19.602Z"
   },
   {
    "duration": 40,
    "start_time": "2022-12-07T21:24:20.750Z"
   },
   {
    "duration": 20,
    "start_time": "2022-12-07T21:24:20.792Z"
   },
   {
    "duration": 18,
    "start_time": "2022-12-07T21:24:20.815Z"
   },
   {
    "duration": 17,
    "start_time": "2022-12-07T21:24:20.835Z"
   },
   {
    "duration": 32,
    "start_time": "2022-12-07T21:24:20.854Z"
   },
   {
    "duration": 30,
    "start_time": "2022-12-07T21:24:20.888Z"
   },
   {
    "duration": 25,
    "start_time": "2022-12-07T21:24:20.920Z"
   },
   {
    "duration": 18,
    "start_time": "2022-12-07T21:24:20.947Z"
   },
   {
    "duration": 17,
    "start_time": "2022-12-07T21:24:20.967Z"
   },
   {
    "duration": 35,
    "start_time": "2022-12-07T21:24:20.986Z"
   },
   {
    "duration": 27,
    "start_time": "2022-12-07T21:24:21.022Z"
   },
   {
    "duration": 16,
    "start_time": "2022-12-07T21:24:21.051Z"
   },
   {
    "duration": 41,
    "start_time": "2022-12-07T21:24:21.069Z"
   },
   {
    "duration": 172,
    "start_time": "2022-12-07T21:24:21.112Z"
   },
   {
    "duration": 52956,
    "start_time": "2022-12-07T21:24:21.286Z"
   },
   {
    "duration": 2389,
    "start_time": "2022-12-07T21:25:14.244Z"
   },
   {
    "duration": 2006,
    "start_time": "2022-12-07T21:26:31.830Z"
   },
   {
    "duration": 53087,
    "start_time": "2022-12-07T21:26:41.078Z"
   },
   {
    "duration": 94406,
    "start_time": "2022-12-07T21:27:59.916Z"
   },
   {
    "duration": 1072,
    "start_time": "2022-12-08T20:17:07.467Z"
   },
   {
    "duration": 164,
    "start_time": "2022-12-08T20:17:08.541Z"
   },
   {
    "duration": 21,
    "start_time": "2022-12-08T20:17:08.707Z"
   },
   {
    "duration": 14,
    "start_time": "2022-12-08T20:17:08.729Z"
   },
   {
    "duration": 5,
    "start_time": "2022-12-08T20:17:08.745Z"
   },
   {
    "duration": 9,
    "start_time": "2022-12-08T20:17:08.752Z"
   },
   {
    "duration": 7,
    "start_time": "2022-12-08T20:17:08.763Z"
   },
   {
    "duration": 4,
    "start_time": "2022-12-08T20:17:08.771Z"
   },
   {
    "duration": 37,
    "start_time": "2022-12-08T20:17:08.777Z"
   },
   {
    "duration": 14,
    "start_time": "2022-12-08T20:17:08.816Z"
   },
   {
    "duration": 17,
    "start_time": "2022-12-08T20:17:08.832Z"
   },
   {
    "duration": 18,
    "start_time": "2022-12-08T20:17:08.851Z"
   },
   {
    "duration": 43,
    "start_time": "2022-12-08T20:17:08.871Z"
   },
   {
    "duration": 36,
    "start_time": "2022-12-08T20:17:08.917Z"
   },
   {
    "duration": 170,
    "start_time": "2022-12-08T20:17:08.955Z"
   },
   {
    "duration": 99388,
    "start_time": "2022-12-08T20:17:09.126Z"
   },
   {
    "duration": 1898,
    "start_time": "2022-12-08T20:18:48.516Z"
   },
   {
    "duration": 162,
    "start_time": "2022-12-08T20:34:40.563Z"
   },
   {
    "duration": 170,
    "start_time": "2022-12-08T20:35:06.060Z"
   },
   {
    "duration": 197,
    "start_time": "2022-12-08T20:35:18.870Z"
   },
   {
    "duration": 1228,
    "start_time": "2022-12-08T20:39:57.010Z"
   },
   {
    "duration": 39,
    "start_time": "2022-12-08T20:39:58.240Z"
   },
   {
    "duration": 21,
    "start_time": "2022-12-08T20:39:58.280Z"
   },
   {
    "duration": 13,
    "start_time": "2022-12-08T20:39:58.303Z"
   },
   {
    "duration": 5,
    "start_time": "2022-12-08T20:39:58.318Z"
   },
   {
    "duration": 8,
    "start_time": "2022-12-08T20:39:58.325Z"
   },
   {
    "duration": 9,
    "start_time": "2022-12-08T20:39:58.334Z"
   },
   {
    "duration": 5,
    "start_time": "2022-12-08T20:39:58.345Z"
   },
   {
    "duration": 5,
    "start_time": "2022-12-08T20:39:58.352Z"
   },
   {
    "duration": 13,
    "start_time": "2022-12-08T20:39:58.360Z"
   },
   {
    "duration": 51,
    "start_time": "2022-12-08T20:39:58.374Z"
   },
   {
    "duration": 20,
    "start_time": "2022-12-08T20:39:58.427Z"
   },
   {
    "duration": 13,
    "start_time": "2022-12-08T20:39:58.449Z"
   },
   {
    "duration": 57,
    "start_time": "2022-12-08T20:39:58.464Z"
   },
   {
    "duration": 174,
    "start_time": "2022-12-08T20:39:58.523Z"
   },
   {
    "duration": 103402,
    "start_time": "2022-12-08T20:39:58.699Z"
   },
   {
    "duration": 2023,
    "start_time": "2022-12-08T20:41:42.102Z"
   },
   {
    "duration": 12,
    "start_time": "2022-12-08T20:45:02.280Z"
   },
   {
    "duration": 7,
    "start_time": "2022-12-08T20:49:49.348Z"
   },
   {
    "duration": 7,
    "start_time": "2022-12-08T20:50:27.248Z"
   },
   {
    "duration": 7,
    "start_time": "2022-12-08T20:50:35.027Z"
   },
   {
    "duration": 6,
    "start_time": "2022-12-08T20:50:38.578Z"
   },
   {
    "duration": 213,
    "start_time": "2022-12-08T20:59:05.130Z"
   },
   {
    "duration": 4,
    "start_time": "2022-12-08T20:59:29.160Z"
   },
   {
    "duration": 156,
    "start_time": "2022-12-08T20:59:34.187Z"
   },
   {
    "duration": 196,
    "start_time": "2022-12-08T21:00:40.305Z"
   },
   {
    "duration": 152,
    "start_time": "2022-12-08T21:11:29.701Z"
   },
   {
    "duration": 102,
    "start_time": "2022-12-08T21:13:30.696Z"
   },
   {
    "duration": 138,
    "start_time": "2022-12-08T21:14:00.384Z"
   },
   {
    "duration": 117,
    "start_time": "2022-12-08T21:14:49.356Z"
   },
   {
    "duration": 118,
    "start_time": "2022-12-08T21:16:45.225Z"
   },
   {
    "duration": 108,
    "start_time": "2022-12-08T21:17:33.481Z"
   },
   {
    "duration": 48,
    "start_time": "2022-12-08T21:21:18.634Z"
   },
   {
    "duration": 49,
    "start_time": "2022-12-08T21:21:53.757Z"
   },
   {
    "duration": 86,
    "start_time": "2022-12-08T21:23:43.048Z"
   },
   {
    "duration": 90,
    "start_time": "2022-12-08T21:24:17.917Z"
   },
   {
    "duration": 4,
    "start_time": "2022-12-08T21:37:38.116Z"
   },
   {
    "duration": 5,
    "start_time": "2022-12-08T21:42:57.897Z"
   },
   {
    "duration": 11,
    "start_time": "2022-12-08T21:44:51.275Z"
   },
   {
    "duration": 20,
    "start_time": "2022-12-08T21:44:58.081Z"
   },
   {
    "duration": 3,
    "start_time": "2022-12-08T21:45:04.534Z"
   },
   {
    "duration": 12,
    "start_time": "2022-12-08T21:45:12.232Z"
   },
   {
    "duration": 215,
    "start_time": "2022-12-08T21:45:16.835Z"
   },
   {
    "duration": 136769,
    "start_time": "2022-12-08T21:47:41.316Z"
   },
   {
    "duration": 2461,
    "start_time": "2022-12-08T21:53:28.761Z"
   },
   {
    "duration": 63,
    "start_time": "2022-12-08T21:56:55.434Z"
   },
   {
    "duration": 40,
    "start_time": "2022-12-08T21:57:46.390Z"
   },
   {
    "duration": 3,
    "start_time": "2022-12-08T22:01:26.446Z"
   },
   {
    "duration": 4,
    "start_time": "2022-12-08T22:01:47.094Z"
   },
   {
    "duration": 37,
    "start_time": "2022-12-08T22:07:02.761Z"
   },
   {
    "duration": 14,
    "start_time": "2022-12-08T22:09:06.128Z"
   },
   {
    "duration": 18,
    "start_time": "2022-12-08T22:09:55.602Z"
   },
   {
    "duration": 12,
    "start_time": "2022-12-08T22:18:59.841Z"
   },
   {
    "duration": 12,
    "start_time": "2022-12-08T22:19:30.147Z"
   },
   {
    "duration": 4,
    "start_time": "2022-12-08T22:20:21.380Z"
   },
   {
    "duration": 12,
    "start_time": "2022-12-08T22:24:15.861Z"
   },
   {
    "duration": 48,
    "start_time": "2022-12-08T22:24:58.775Z"
   },
   {
    "duration": 98474,
    "start_time": "2022-12-08T22:31:55.133Z"
   },
   {
    "duration": 76,
    "start_time": "2022-12-08T22:35:17.745Z"
   },
   {
    "duration": 61,
    "start_time": "2022-12-08T22:35:41.879Z"
   },
   {
    "duration": 30,
    "start_time": "2022-12-08T22:46:53.240Z"
   },
   {
    "duration": 1135,
    "start_time": "2022-12-08T22:57:51.684Z"
   },
   {
    "duration": 39,
    "start_time": "2022-12-08T22:57:52.821Z"
   },
   {
    "duration": 20,
    "start_time": "2022-12-08T22:57:52.861Z"
   },
   {
    "duration": 15,
    "start_time": "2022-12-08T22:57:52.883Z"
   },
   {
    "duration": 4,
    "start_time": "2022-12-08T22:57:52.899Z"
   },
   {
    "duration": 7,
    "start_time": "2022-12-08T22:57:52.905Z"
   },
   {
    "duration": 8,
    "start_time": "2022-12-08T22:57:52.913Z"
   },
   {
    "duration": 6,
    "start_time": "2022-12-08T22:57:52.923Z"
   },
   {
    "duration": 5,
    "start_time": "2022-12-08T22:57:52.930Z"
   },
   {
    "duration": 18,
    "start_time": "2022-12-08T22:57:52.939Z"
   },
   {
    "duration": 23,
    "start_time": "2022-12-08T22:57:52.958Z"
   },
   {
    "duration": 32,
    "start_time": "2022-12-08T22:57:52.982Z"
   },
   {
    "duration": 4,
    "start_time": "2022-12-08T22:57:53.016Z"
   },
   {
    "duration": 23,
    "start_time": "2022-12-08T22:57:53.023Z"
   },
   {
    "duration": 12,
    "start_time": "2022-12-08T22:57:53.048Z"
   },
   {
    "duration": 4,
    "start_time": "2022-12-08T22:57:53.062Z"
   },
   {
    "duration": 71,
    "start_time": "2022-12-08T22:57:53.068Z"
   },
   {
    "duration": 174,
    "start_time": "2022-12-08T22:57:53.140Z"
   },
   {
    "duration": 98831,
    "start_time": "2022-12-08T22:57:53.315Z"
   },
   {
    "duration": 2075,
    "start_time": "2022-12-08T22:59:32.147Z"
   },
   {
    "duration": 7,
    "start_time": "2022-12-08T22:59:34.314Z"
   },
   {
    "duration": 205,
    "start_time": "2022-12-08T22:59:34.323Z"
   },
   {
    "duration": 75,
    "start_time": "2022-12-08T22:59:34.529Z"
   },
   {
    "duration": 13,
    "start_time": "2022-12-08T22:59:34.613Z"
   },
   {
    "duration": 3,
    "start_time": "2022-12-08T22:59:34.628Z"
   },
   {
    "duration": 231,
    "start_time": "2022-12-08T22:59:34.633Z"
   },
   {
    "duration": 133345,
    "start_time": "2022-12-08T22:59:34.865Z"
   },
   {
    "duration": 2401,
    "start_time": "2022-12-08T23:01:48.213Z"
   },
   {
    "duration": 158,
    "start_time": "2022-12-08T23:01:50.617Z"
   },
   {
    "duration": 70,
    "start_time": "2022-12-08T23:01:50.777Z"
   },
   {
    "duration": 55,
    "start_time": "2022-12-10T09:56:30.941Z"
   },
   {
    "duration": 1183,
    "start_time": "2022-12-10T09:56:44.989Z"
   },
   {
    "duration": 478,
    "start_time": "2022-12-10T09:56:46.174Z"
   },
   {
    "duration": 21,
    "start_time": "2022-12-10T09:56:46.654Z"
   },
   {
    "duration": 15,
    "start_time": "2022-12-10T09:56:46.678Z"
   },
   {
    "duration": 5,
    "start_time": "2022-12-10T09:56:46.695Z"
   },
   {
    "duration": 9,
    "start_time": "2022-12-10T09:56:46.701Z"
   },
   {
    "duration": 41,
    "start_time": "2022-12-10T09:56:46.712Z"
   },
   {
    "duration": 8,
    "start_time": "2022-12-10T09:56:46.755Z"
   },
   {
    "duration": 4,
    "start_time": "2022-12-10T09:56:46.765Z"
   },
   {
    "duration": 13,
    "start_time": "2022-12-10T09:56:46.772Z"
   },
   {
    "duration": 17,
    "start_time": "2022-12-10T09:56:46.787Z"
   },
   {
    "duration": 15,
    "start_time": "2022-12-10T09:56:46.805Z"
   },
   {
    "duration": 26,
    "start_time": "2022-12-10T09:56:46.828Z"
   },
   {
    "duration": 23,
    "start_time": "2022-12-10T09:56:46.856Z"
   },
   {
    "duration": 13,
    "start_time": "2022-12-10T09:56:46.881Z"
   },
   {
    "duration": 4,
    "start_time": "2022-12-10T09:56:46.896Z"
   },
   {
    "duration": 53,
    "start_time": "2022-12-10T09:56:46.901Z"
   },
   {
    "duration": 201,
    "start_time": "2022-12-10T09:56:46.958Z"
   },
   {
    "duration": 111910,
    "start_time": "2022-12-10T09:56:47.161Z"
   },
   {
    "duration": 7979,
    "start_time": "2022-12-10T09:58:39.072Z"
   },
   {
    "duration": 84,
    "start_time": "2022-12-10T09:58:47.053Z"
   },
   {
    "duration": 187,
    "start_time": "2022-12-10T09:58:47.143Z"
   },
   {
    "duration": 86,
    "start_time": "2022-12-10T09:58:47.334Z"
   },
   {
    "duration": 23,
    "start_time": "2022-12-10T09:58:47.421Z"
   },
   {
    "duration": 21,
    "start_time": "2022-12-10T09:58:47.449Z"
   },
   {
    "duration": 245,
    "start_time": "2022-12-10T09:58:47.472Z"
   },
   {
    "duration": 151265,
    "start_time": "2022-12-10T09:58:47.723Z"
   },
   {
    "duration": 6835,
    "start_time": "2022-12-10T10:01:18.992Z"
   },
   {
    "duration": 140,
    "start_time": "2022-12-10T10:01:25.829Z"
   },
   {
    "duration": 70,
    "start_time": "2022-12-10T10:01:25.971Z"
   },
   {
    "duration": 216,
    "start_time": "2022-12-10T10:09:00.741Z"
   },
   {
    "duration": 47,
    "start_time": "2022-12-10T10:10:41.180Z"
   },
   {
    "duration": 9,
    "start_time": "2022-12-10T10:11:08.156Z"
   },
   {
    "duration": 7,
    "start_time": "2022-12-10T10:11:43.965Z"
   },
   {
    "duration": 109557,
    "start_time": "2022-12-10T11:06:01.529Z"
   },
   {
    "duration": 80,
    "start_time": "2022-12-10T11:08:37.454Z"
   },
   {
    "duration": 92,
    "start_time": "2022-12-10T11:09:08.586Z"
   },
   {
    "duration": 103,
    "start_time": "2022-12-10T11:09:15.729Z"
   },
   {
    "duration": 91,
    "start_time": "2022-12-10T11:09:23.075Z"
   },
   {
    "duration": 92,
    "start_time": "2022-12-10T11:09:39.484Z"
   },
   {
    "duration": 1230,
    "start_time": "2022-12-10T11:10:48.893Z"
   },
   {
    "duration": 46,
    "start_time": "2022-12-10T11:10:50.129Z"
   },
   {
    "duration": 30,
    "start_time": "2022-12-10T11:10:50.177Z"
   },
   {
    "duration": 26,
    "start_time": "2022-12-10T11:10:50.209Z"
   },
   {
    "duration": 38,
    "start_time": "2022-12-10T11:10:50.238Z"
   },
   {
    "duration": 14,
    "start_time": "2022-12-10T11:10:50.278Z"
   },
   {
    "duration": 26,
    "start_time": "2022-12-10T11:10:50.294Z"
   },
   {
    "duration": 45,
    "start_time": "2022-12-10T11:10:50.322Z"
   },
   {
    "duration": 20,
    "start_time": "2022-12-10T11:10:50.369Z"
   },
   {
    "duration": 26,
    "start_time": "2022-12-10T11:10:50.391Z"
   },
   {
    "duration": 57,
    "start_time": "2022-12-10T11:10:50.421Z"
   },
   {
    "duration": 26,
    "start_time": "2022-12-10T11:10:50.480Z"
   },
   {
    "duration": 17,
    "start_time": "2022-12-10T11:10:50.509Z"
   },
   {
    "duration": 50,
    "start_time": "2022-12-10T11:10:50.530Z"
   },
   {
    "duration": 16,
    "start_time": "2022-12-10T11:10:50.582Z"
   },
   {
    "duration": 5,
    "start_time": "2022-12-10T11:10:50.600Z"
   },
   {
    "duration": 86,
    "start_time": "2022-12-10T11:10:50.608Z"
   },
   {
    "duration": 7,
    "start_time": "2022-12-10T11:10:50.695Z"
   },
   {
    "duration": 205,
    "start_time": "2022-12-10T11:10:50.704Z"
   },
   {
    "duration": 111259,
    "start_time": "2022-12-10T11:10:50.921Z"
   },
   {
    "duration": 3334,
    "start_time": "2022-12-10T11:12:42.182Z"
   },
   {
    "duration": 22,
    "start_time": "2022-12-10T11:12:45.530Z"
   },
   {
    "duration": 149,
    "start_time": "2022-12-10T11:12:45.624Z"
   },
   {
    "duration": 82,
    "start_time": "2022-12-10T11:12:45.775Z"
   },
   {
    "duration": 12,
    "start_time": "2022-12-10T11:12:45.859Z"
   },
   {
    "duration": 5,
    "start_time": "2022-12-10T11:12:45.873Z"
   },
   {
    "duration": 239,
    "start_time": "2022-12-10T11:12:45.879Z"
   },
   {
    "duration": 150617,
    "start_time": "2022-12-10T11:12:46.120Z"
   },
   {
    "duration": 5896,
    "start_time": "2022-12-10T11:15:16.748Z"
   },
   {
    "duration": 183,
    "start_time": "2022-12-10T11:15:22.650Z"
   },
   {
    "duration": 112565,
    "start_time": "2022-12-10T11:15:22.835Z"
   },
   {
    "duration": 93,
    "start_time": "2022-12-10T11:17:15.403Z"
   },
   {
    "duration": 97,
    "start_time": "2022-12-10T11:17:15.498Z"
   },
   {
    "duration": 157,
    "start_time": "2022-12-10T11:32:48.841Z"
   },
   {
    "duration": 51,
    "start_time": "2022-12-10T13:34:40.261Z"
   },
   {
    "duration": 1163,
    "start_time": "2022-12-10T13:44:14.565Z"
   },
   {
    "duration": 40,
    "start_time": "2022-12-10T13:44:15.731Z"
   },
   {
    "duration": 21,
    "start_time": "2022-12-10T13:44:15.773Z"
   },
   {
    "duration": 13,
    "start_time": "2022-12-10T13:44:15.796Z"
   },
   {
    "duration": 8,
    "start_time": "2022-12-10T13:44:15.811Z"
   },
   {
    "duration": 9,
    "start_time": "2022-12-10T13:44:15.821Z"
   },
   {
    "duration": 10,
    "start_time": "2022-12-10T13:44:15.832Z"
   },
   {
    "duration": 5,
    "start_time": "2022-12-10T13:44:15.844Z"
   },
   {
    "duration": 7,
    "start_time": "2022-12-10T13:44:15.851Z"
   },
   {
    "duration": 22,
    "start_time": "2022-12-10T13:44:15.860Z"
   },
   {
    "duration": 35,
    "start_time": "2022-12-10T13:44:15.884Z"
   },
   {
    "duration": 11,
    "start_time": "2022-12-10T13:44:15.921Z"
   },
   {
    "duration": 5,
    "start_time": "2022-12-10T13:44:15.934Z"
   },
   {
    "duration": 30,
    "start_time": "2022-12-10T13:44:15.942Z"
   },
   {
    "duration": 12,
    "start_time": "2022-12-10T13:44:15.974Z"
   },
   {
    "duration": 4,
    "start_time": "2022-12-10T13:44:15.988Z"
   },
   {
    "duration": 44,
    "start_time": "2022-12-10T13:44:16.016Z"
   },
   {
    "duration": 7,
    "start_time": "2022-12-10T13:44:16.061Z"
   },
   {
    "duration": 202,
    "start_time": "2022-12-10T13:44:16.069Z"
   },
   {
    "duration": 111477,
    "start_time": "2022-12-10T13:44:16.273Z"
   },
   {
    "duration": 4787,
    "start_time": "2022-12-10T13:46:07.752Z"
   },
   {
    "duration": 206,
    "start_time": "2022-12-10T13:46:12.613Z"
   },
   {
    "duration": 85,
    "start_time": "2022-12-10T13:46:12.829Z"
   },
   {
    "duration": 24,
    "start_time": "2022-12-10T13:46:12.917Z"
   },
   {
    "duration": 20,
    "start_time": "2022-12-10T13:46:12.944Z"
   },
   {
    "duration": 240,
    "start_time": "2022-12-10T13:46:12.967Z"
   },
   {
    "duration": 1175,
    "start_time": "2022-12-10T13:55:33.419Z"
   },
   {
    "duration": 54,
    "start_time": "2022-12-10T13:55:34.597Z"
   },
   {
    "duration": 32,
    "start_time": "2022-12-10T13:55:34.654Z"
   },
   {
    "duration": 17,
    "start_time": "2022-12-10T13:55:34.689Z"
   },
   {
    "duration": 22,
    "start_time": "2022-12-10T13:55:34.712Z"
   },
   {
    "duration": 32,
    "start_time": "2022-12-10T13:55:34.736Z"
   },
   {
    "duration": 11,
    "start_time": "2022-12-10T13:55:34.771Z"
   },
   {
    "duration": 8,
    "start_time": "2022-12-10T13:55:34.784Z"
   },
   {
    "duration": 9,
    "start_time": "2022-12-10T13:55:34.794Z"
   },
   {
    "duration": 34,
    "start_time": "2022-12-10T13:55:34.806Z"
   },
   {
    "duration": 19,
    "start_time": "2022-12-10T13:55:34.842Z"
   },
   {
    "duration": 9,
    "start_time": "2022-12-10T13:55:34.863Z"
   },
   {
    "duration": 6,
    "start_time": "2022-12-10T13:55:34.873Z"
   },
   {
    "duration": 23,
    "start_time": "2022-12-10T13:55:34.881Z"
   },
   {
    "duration": 28,
    "start_time": "2022-12-10T13:55:34.905Z"
   },
   {
    "duration": 5,
    "start_time": "2022-12-10T13:55:34.934Z"
   },
   {
    "duration": 48,
    "start_time": "2022-12-10T13:55:34.942Z"
   },
   {
    "duration": 24,
    "start_time": "2022-12-10T13:55:34.991Z"
   },
   {
    "duration": 176,
    "start_time": "2022-12-10T13:55:35.024Z"
   },
   {
    "duration": 106637,
    "start_time": "2022-12-10T13:55:35.201Z"
   },
   {
    "duration": 11978,
    "start_time": "2022-12-10T13:57:21.840Z"
   },
   {
    "duration": 216,
    "start_time": "2022-12-10T13:57:33.821Z"
   },
   {
    "duration": 83,
    "start_time": "2022-12-10T13:57:34.039Z"
   },
   {
    "duration": 13,
    "start_time": "2022-12-10T13:57:34.124Z"
   },
   {
    "duration": 5,
    "start_time": "2022-12-10T13:57:34.138Z"
   },
   {
    "duration": 225,
    "start_time": "2022-12-10T13:57:34.144Z"
   },
   {
    "duration": 146259,
    "start_time": "2022-12-10T13:57:34.371Z"
   },
   {
    "duration": 6698,
    "start_time": "2022-12-10T14:00:00.634Z"
   },
   {
    "duration": 245,
    "start_time": "2022-12-10T14:00:07.334Z"
   },
   {
    "duration": 109908,
    "start_time": "2022-12-10T14:00:07.580Z"
   },
   {
    "duration": 95,
    "start_time": "2022-12-10T14:01:57.490Z"
   },
   {
    "duration": 48,
    "start_time": "2022-12-10T14:01:57.587Z"
   },
   {
    "duration": 1042,
    "start_time": "2022-12-11T13:47:52.637Z"
   },
   {
    "duration": 41,
    "start_time": "2022-12-11T13:47:53.681Z"
   },
   {
    "duration": 18,
    "start_time": "2022-12-11T13:47:53.724Z"
   },
   {
    "duration": 34,
    "start_time": "2022-12-11T13:47:53.744Z"
   },
   {
    "duration": 9,
    "start_time": "2022-12-11T13:47:53.780Z"
   },
   {
    "duration": 16,
    "start_time": "2022-12-11T13:47:53.791Z"
   },
   {
    "duration": 15,
    "start_time": "2022-12-11T13:47:53.809Z"
   },
   {
    "duration": 10,
    "start_time": "2022-12-11T13:47:53.826Z"
   },
   {
    "duration": 10,
    "start_time": "2022-12-11T13:47:53.837Z"
   },
   {
    "duration": 13,
    "start_time": "2022-12-11T13:47:53.849Z"
   },
   {
    "duration": 20,
    "start_time": "2022-12-11T13:47:53.864Z"
   },
   {
    "duration": 11,
    "start_time": "2022-12-11T13:47:53.887Z"
   },
   {
    "duration": 15,
    "start_time": "2022-12-11T13:47:53.900Z"
   },
   {
    "duration": 23,
    "start_time": "2022-12-11T13:47:53.919Z"
   },
   {
    "duration": 36,
    "start_time": "2022-12-11T13:47:53.944Z"
   },
   {
    "duration": 5,
    "start_time": "2022-12-11T13:47:53.983Z"
   },
   {
    "duration": 37,
    "start_time": "2022-12-11T13:47:53.991Z"
   },
   {
    "duration": 8,
    "start_time": "2022-12-11T13:47:54.030Z"
   },
   {
    "duration": 186,
    "start_time": "2022-12-11T13:47:54.040Z"
   },
   {
    "duration": 100793,
    "start_time": "2022-12-11T13:47:54.228Z"
   },
   {
    "duration": 1159,
    "start_time": "2022-12-11T13:49:35.023Z"
   },
   {
    "duration": 212,
    "start_time": "2022-12-11T13:49:36.186Z"
   },
   {
    "duration": 79,
    "start_time": "2022-12-11T13:49:36.400Z"
   },
   {
    "duration": 10,
    "start_time": "2022-12-11T13:49:36.481Z"
   },
   {
    "duration": 36,
    "start_time": "2022-12-11T13:49:36.492Z"
   },
   {
    "duration": 230,
    "start_time": "2022-12-11T13:49:36.530Z"
   },
   {
    "duration": 135288,
    "start_time": "2022-12-11T13:49:36.762Z"
   },
   {
    "duration": 2130,
    "start_time": "2022-12-11T13:51:52.052Z"
   },
   {
    "duration": 251,
    "start_time": "2022-12-11T13:51:54.184Z"
   },
   {
    "duration": 100192,
    "start_time": "2022-12-11T13:51:54.437Z"
   },
   {
    "duration": 122,
    "start_time": "2022-12-11T13:53:34.630Z"
   },
   {
    "duration": 67,
    "start_time": "2022-12-11T13:53:34.754Z"
   },
   {
    "duration": 6,
    "start_time": "2022-12-11T14:34:01.498Z"
   },
   {
    "duration": 4,
    "start_time": "2022-12-11T14:36:32.294Z"
   },
   {
    "duration": 47,
    "start_time": "2022-12-11T16:12:38.548Z"
   },
   {
    "duration": 1086,
    "start_time": "2022-12-11T16:12:59.270Z"
   },
   {
    "duration": 191,
    "start_time": "2022-12-11T16:13:03.066Z"
   },
   {
    "duration": 21,
    "start_time": "2022-12-11T16:13:05.086Z"
   },
   {
    "duration": 17,
    "start_time": "2022-12-11T16:13:08.606Z"
   },
   {
    "duration": 6,
    "start_time": "2022-12-11T16:13:11.840Z"
   },
   {
    "duration": 6,
    "start_time": "2022-12-11T16:13:12.691Z"
   },
   {
    "duration": 7,
    "start_time": "2022-12-11T16:13:13.616Z"
   },
   {
    "duration": 5,
    "start_time": "2022-12-11T16:13:18.943Z"
   },
   {
    "duration": 18,
    "start_time": "2022-12-11T16:13:45.735Z"
   },
   {
    "duration": 8,
    "start_time": "2022-12-11T16:13:52.272Z"
   },
   {
    "duration": 5,
    "start_time": "2022-12-11T16:13:55.444Z"
   },
   {
    "duration": 8,
    "start_time": "2022-12-11T16:13:59.531Z"
   },
   {
    "duration": 12,
    "start_time": "2022-12-11T16:14:03.683Z"
   },
   {
    "duration": 4,
    "start_time": "2022-12-11T16:14:06.298Z"
   },
   {
    "duration": 115,
    "start_time": "2022-12-11T16:17:01.269Z"
   },
   {
    "duration": 4,
    "start_time": "2022-12-11T16:17:39.541Z"
   },
   {
    "duration": 14,
    "start_time": "2022-12-11T16:17:42.968Z"
   },
   {
    "duration": 16,
    "start_time": "2022-12-11T16:17:50.648Z"
   },
   {
    "duration": 7,
    "start_time": "2022-12-11T16:17:58.674Z"
   },
   {
    "duration": 5,
    "start_time": "2022-12-11T16:18:02.211Z"
   },
   {
    "duration": 2,
    "start_time": "2022-12-11T16:18:06.389Z"
   },
   {
    "duration": 13,
    "start_time": "2022-12-11T16:18:09.630Z"
   },
   {
    "duration": 3,
    "start_time": "2022-12-11T16:18:14.457Z"
   },
   {
    "duration": 36,
    "start_time": "2022-12-11T16:18:18.054Z"
   },
   {
    "duration": 58,
    "start_time": "2022-12-11T16:18:53.517Z"
   },
   {
    "duration": 2660,
    "start_time": "2022-12-11T16:20:03.545Z"
   },
   {
    "duration": 6,
    "start_time": "2022-12-11T16:20:16.745Z"
   },
   {
    "duration": 5,
    "start_time": "2022-12-11T16:21:42.106Z"
   },
   {
    "duration": 11,
    "start_time": "2022-12-11T16:22:05.940Z"
   },
   {
    "duration": 45,
    "start_time": "2022-12-11T16:23:50.006Z"
   },
   {
    "duration": 10,
    "start_time": "2022-12-11T16:24:03.240Z"
   },
   {
    "duration": 10,
    "start_time": "2022-12-11T16:24:40.080Z"
   },
   {
    "duration": 8,
    "start_time": "2022-12-11T16:25:17.594Z"
   },
   {
    "duration": 35,
    "start_time": "2022-12-11T16:25:51.173Z"
   },
   {
    "duration": 8,
    "start_time": "2022-12-11T17:14:06.385Z"
   },
   {
    "duration": 1075,
    "start_time": "2022-12-11T18:00:48.597Z"
   },
   {
    "duration": 38,
    "start_time": "2022-12-11T18:00:49.674Z"
   },
   {
    "duration": 31,
    "start_time": "2022-12-11T18:00:49.713Z"
   },
   {
    "duration": 20,
    "start_time": "2022-12-11T18:00:49.747Z"
   },
   {
    "duration": 15,
    "start_time": "2022-12-11T18:00:49.769Z"
   },
   {
    "duration": 20,
    "start_time": "2022-12-11T18:00:49.785Z"
   },
   {
    "duration": 50,
    "start_time": "2022-12-11T18:00:49.807Z"
   },
   {
    "duration": 28,
    "start_time": "2022-12-11T18:00:49.859Z"
   },
   {
    "duration": 17,
    "start_time": "2022-12-11T18:00:49.888Z"
   },
   {
    "duration": 26,
    "start_time": "2022-12-11T18:00:49.909Z"
   },
   {
    "duration": 44,
    "start_time": "2022-12-11T18:00:49.937Z"
   },
   {
    "duration": 9,
    "start_time": "2022-12-11T18:00:49.983Z"
   },
   {
    "duration": 17,
    "start_time": "2022-12-11T18:00:49.994Z"
   },
   {
    "duration": 47,
    "start_time": "2022-12-11T18:00:50.013Z"
   },
   {
    "duration": 25,
    "start_time": "2022-12-11T18:00:50.062Z"
   },
   {
    "duration": 25,
    "start_time": "2022-12-11T18:00:50.089Z"
   },
   {
    "duration": 55,
    "start_time": "2022-12-11T18:00:50.116Z"
   },
   {
    "duration": 7,
    "start_time": "2022-12-11T18:00:50.172Z"
   },
   {
    "duration": 59,
    "start_time": "2022-12-11T18:00:50.180Z"
   },
   {
    "duration": 7,
    "start_time": "2022-12-11T18:00:50.241Z"
   },
   {
    "duration": 47,
    "start_time": "2022-12-11T18:00:50.250Z"
   },
   {
    "duration": 180,
    "start_time": "2022-12-11T18:00:50.299Z"
   },
   {
    "duration": 98962,
    "start_time": "2022-12-11T18:00:50.481Z"
   },
   {
    "duration": 4205,
    "start_time": "2022-12-11T18:02:29.446Z"
   },
   {
    "duration": 14,
    "start_time": "2022-12-11T18:02:33.733Z"
   },
   {
    "duration": 110,
    "start_time": "2022-12-11T18:02:33.750Z"
   },
   {
    "duration": 3,
    "start_time": "2022-12-11T18:02:33.862Z"
   },
   {
    "duration": 198,
    "start_time": "2022-12-11T18:02:33.869Z"
   },
   {
    "duration": 129670,
    "start_time": "2022-12-11T18:02:34.069Z"
   },
   {
    "duration": 4293,
    "start_time": "2022-12-11T18:04:43.741Z"
   },
   {
    "duration": 91,
    "start_time": "2022-12-11T18:04:48.036Z"
   },
   {
    "duration": 267,
    "start_time": "2022-12-11T18:04:48.129Z"
   },
   {
    "duration": 90862,
    "start_time": "2022-12-11T18:04:48.397Z"
   },
   {
    "duration": 1768,
    "start_time": "2022-12-11T18:06:19.261Z"
   },
   {
    "duration": 4,
    "start_time": "2022-12-11T18:06:21.034Z"
   },
   {
    "duration": 99,
    "start_time": "2022-12-11T18:06:21.041Z"
   },
   {
    "duration": 4,
    "start_time": "2022-12-11T18:06:21.141Z"
   },
   {
    "duration": 106,
    "start_time": "2022-12-11T18:06:21.147Z"
   },
   {
    "duration": 54745,
    "start_time": "2022-12-11T18:06:21.254Z"
   },
   {
    "duration": 1135,
    "start_time": "2022-12-11T18:07:16.001Z"
   },
   {
    "duration": 112,
    "start_time": "2022-12-11T18:07:17.227Z"
   },
   {
    "duration": 111,
    "start_time": "2022-12-11T18:07:17.341Z"
   },
   {
    "duration": 5,
    "start_time": "2022-12-11T18:07:17.454Z"
   },
   {
    "duration": 70,
    "start_time": "2022-12-11T18:07:17.461Z"
   },
   {
    "duration": 428,
    "start_time": "2022-12-11T18:32:26.029Z"
   },
   {
    "duration": 463,
    "start_time": "2022-12-11T18:32:58.076Z"
   },
   {
    "duration": 78,
    "start_time": "2022-12-11T18:34:34.431Z"
   },
   {
    "duration": 83,
    "start_time": "2022-12-11T19:02:13.585Z"
   },
   {
    "duration": 37,
    "start_time": "2022-12-11T19:03:25.298Z"
   },
   {
    "duration": 80,
    "start_time": "2022-12-11T19:04:11.682Z"
   },
   {
    "duration": 3,
    "start_time": "2022-12-11T19:04:18.889Z"
   },
   {
    "duration": 43,
    "start_time": "2022-12-11T19:04:21.524Z"
   },
   {
    "duration": 1147,
    "start_time": "2022-12-12T06:26:13.953Z"
   },
   {
    "duration": 85,
    "start_time": "2022-12-12T06:26:15.103Z"
   },
   {
    "duration": 20,
    "start_time": "2022-12-12T06:26:15.190Z"
   },
   {
    "duration": 14,
    "start_time": "2022-12-12T06:26:15.212Z"
   },
   {
    "duration": 17,
    "start_time": "2022-12-12T06:26:15.228Z"
   },
   {
    "duration": 9,
    "start_time": "2022-12-12T06:26:15.247Z"
   },
   {
    "duration": 9,
    "start_time": "2022-12-12T06:26:15.258Z"
   },
   {
    "duration": 6,
    "start_time": "2022-12-12T06:26:15.276Z"
   },
   {
    "duration": 5,
    "start_time": "2022-12-12T06:26:15.284Z"
   },
   {
    "duration": 18,
    "start_time": "2022-12-12T06:26:15.291Z"
   },
   {
    "duration": 19,
    "start_time": "2022-12-12T06:26:15.310Z"
   },
   {
    "duration": 9,
    "start_time": "2022-12-12T06:26:15.330Z"
   },
   {
    "duration": 5,
    "start_time": "2022-12-12T06:26:15.340Z"
   },
   {
    "duration": 34,
    "start_time": "2022-12-12T06:26:15.346Z"
   },
   {
    "duration": 12,
    "start_time": "2022-12-12T06:26:15.382Z"
   },
   {
    "duration": 4,
    "start_time": "2022-12-12T06:26:15.396Z"
   },
   {
    "duration": 54,
    "start_time": "2022-12-12T06:26:15.402Z"
   },
   {
    "duration": 10,
    "start_time": "2022-12-12T06:26:15.477Z"
   },
   {
    "duration": 37,
    "start_time": "2022-12-12T06:26:15.489Z"
   },
   {
    "duration": 6,
    "start_time": "2022-12-12T06:26:15.529Z"
   },
   {
    "duration": 3,
    "start_time": "2022-12-12T06:26:15.537Z"
   },
   {
    "duration": 210,
    "start_time": "2022-12-12T06:26:15.542Z"
   },
   {
    "duration": 102947,
    "start_time": "2022-12-12T06:26:15.755Z"
   },
   {
    "duration": 3275,
    "start_time": "2022-12-12T06:27:58.704Z"
   },
   {
    "duration": 3,
    "start_time": "2022-12-12T06:28:01.981Z"
   },
   {
    "duration": 110,
    "start_time": "2022-12-12T06:28:01.988Z"
   },
   {
    "duration": 5,
    "start_time": "2022-12-12T06:28:02.100Z"
   },
   {
    "duration": 217,
    "start_time": "2022-12-12T06:28:02.108Z"
   },
   {
    "duration": 148278,
    "start_time": "2022-12-12T06:28:02.326Z"
   },
   {
    "duration": 3784,
    "start_time": "2022-12-12T06:30:30.606Z"
   },
   {
    "duration": 5,
    "start_time": "2022-12-12T06:30:34.481Z"
   },
   {
    "duration": 188,
    "start_time": "2022-12-12T06:30:34.577Z"
   },
   {
    "duration": 105956,
    "start_time": "2022-12-12T06:30:34.767Z"
   },
   {
    "duration": 2162,
    "start_time": "2022-12-12T06:32:20.726Z"
   },
   {
    "duration": 6,
    "start_time": "2022-12-12T06:32:22.982Z"
   },
   {
    "duration": 24,
    "start_time": "2022-12-12T06:32:23.078Z"
   },
   {
    "duration": 6,
    "start_time": "2022-12-12T06:32:23.104Z"
   },
   {
    "duration": 122,
    "start_time": "2022-12-12T06:32:23.112Z"
   },
   {
    "duration": 61938,
    "start_time": "2022-12-12T06:32:23.237Z"
   },
   {
    "duration": 1406,
    "start_time": "2022-12-12T06:33:25.178Z"
   },
   {
    "duration": 198,
    "start_time": "2022-12-12T06:33:26.586Z"
   },
   {
    "duration": 545,
    "start_time": "2022-12-12T06:33:26.786Z"
   },
   {
    "duration": 99,
    "start_time": "2022-12-12T06:33:27.333Z"
   },
   {
    "duration": 3,
    "start_time": "2022-12-12T06:33:27.434Z"
   },
   {
    "duration": 57,
    "start_time": "2022-12-12T06:33:27.438Z"
   },
   {
    "duration": 4,
    "start_time": "2022-12-12T06:37:30.694Z"
   }
  ],
  "kernelspec": {
   "display_name": "Python 3 (ipykernel)",
   "language": "python",
   "name": "python3"
  },
  "language_info": {
   "codemirror_mode": {
    "name": "ipython",
    "version": 3
   },
   "file_extension": ".py",
   "mimetype": "text/x-python",
   "name": "python",
   "nbconvert_exporter": "python",
   "pygments_lexer": "ipython3",
   "version": "3.9.12"
  },
  "toc": {
   "base_numbering": 1,
   "nav_menu": {
    "height": "176px",
    "width": "339px"
   },
   "number_sections": true,
   "sideBar": true,
   "skip_h1_title": true,
   "title_cell": "Содержание",
   "title_sidebar": "Contents",
   "toc_cell": true,
   "toc_position": {
    "height": "calc(100% - 180px)",
    "left": "10px",
    "top": "150px",
    "width": "228.594px"
   },
   "toc_section_display": true,
   "toc_window_display": true
  }
 },
 "nbformat": 4,
 "nbformat_minor": 2
}
